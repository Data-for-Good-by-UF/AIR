{
 "cells": [
  {
   "cell_type": "markdown",
   "id": "636d3921",
   "metadata": {},
   "source": [
    "# load libraries\n",
    "\n",
    "import pandas as pd\n",
    "import numpy as np\n",
    "import matplotlib.pyplot as plt\n",
    "import seaborn as sns\n",
    "sns.set()\n",
    "pd.options.display.max_columns=200\n",
    "\n",
    "from statsmodels.tsa.stattools import adfuller\n",
    "import statsmodels.graphics.tsaplots as sgt\n",
    "from statsmodels.tsa.seasonal import seasonal_decompose\n",
    "import statsmodels.api as sm"
   ]
  },
  {
   "cell_type": "code",
   "execution_count": 1,
   "id": "81e8ed8b",
   "metadata": {},
   "outputs": [],
   "source": [
    "# load libraries\n",
    "\n",
    "import pandas as pd\n",
    "import numpy as np\n",
    "import matplotlib.pyplot as plt\n",
    "import seaborn as sns\n",
    "sns.set()\n",
    "pd.options.display.max_columns=200\n",
    "\n",
    "from statsmodels.tsa.stattools import adfuller\n",
    "import statsmodels.graphics.tsaplots as sgt\n",
    "from statsmodels.tsa.seasonal import seasonal_decompose\n",
    "import statsmodels.api as sm\n",
    "\n",
    "import pmdarima as pm\n",
    "from pmdarima.arima.stationarity import ADFTest\n",
    "from pmdarima.arima.utils import ndiffs\n",
    "\n",
    "from pmdarima.arima.utils import nsdiffs"
   ]
  },
  {
   "cell_type": "code",
   "execution_count": 2,
   "id": "1e77e61b",
   "metadata": {},
   "outputs": [
    {
     "data": {
      "text/html": [
       "<div>\n",
       "<style scoped>\n",
       "    .dataframe tbody tr th:only-of-type {\n",
       "        vertical-align: middle;\n",
       "    }\n",
       "\n",
       "    .dataframe tbody tr th {\n",
       "        vertical-align: top;\n",
       "    }\n",
       "\n",
       "    .dataframe thead th {\n",
       "        text-align: right;\n",
       "    }\n",
       "</style>\n",
       "<table border=\"1\" class=\"dataframe\">\n",
       "  <thead>\n",
       "    <tr style=\"text-align: right;\">\n",
       "      <th></th>\n",
       "      <th>State Code</th>\n",
       "      <th>County Code</th>\n",
       "      <th>Site Num</th>\n",
       "      <th>Address</th>\n",
       "      <th>State</th>\n",
       "      <th>County</th>\n",
       "      <th>City</th>\n",
       "      <th>Date Local</th>\n",
       "      <th>NO2 Units</th>\n",
       "      <th>NO2 Mean</th>\n",
       "      <th>NO2 1st Max Value</th>\n",
       "      <th>NO2 1st Max Hour</th>\n",
       "      <th>NO2 AQI</th>\n",
       "      <th>O3 Units</th>\n",
       "      <th>O3 Mean</th>\n",
       "      <th>O3 1st Max Value</th>\n",
       "      <th>O3 1st Max Hour</th>\n",
       "      <th>O3 AQI</th>\n",
       "      <th>SO2 Units</th>\n",
       "      <th>SO2 Mean</th>\n",
       "      <th>SO2 1st Max Value</th>\n",
       "      <th>SO2 1st Max Hour</th>\n",
       "      <th>SO2 AQI</th>\n",
       "      <th>CO Units</th>\n",
       "      <th>CO Mean</th>\n",
       "      <th>CO 1st Max Value</th>\n",
       "      <th>CO 1st Max Hour</th>\n",
       "      <th>CO AQI</th>\n",
       "    </tr>\n",
       "  </thead>\n",
       "  <tbody>\n",
       "    <tr>\n",
       "      <th>0</th>\n",
       "      <td>4</td>\n",
       "      <td>13</td>\n",
       "      <td>3002</td>\n",
       "      <td>1645 E ROOSEVELT ST-CENTRAL PHOENIX STN</td>\n",
       "      <td>Arizona</td>\n",
       "      <td>Maricopa</td>\n",
       "      <td>Phoenix</td>\n",
       "      <td>2000-01-01</td>\n",
       "      <td>Parts per billion</td>\n",
       "      <td>19.041667</td>\n",
       "      <td>49.0</td>\n",
       "      <td>19</td>\n",
       "      <td>46</td>\n",
       "      <td>Parts per million</td>\n",
       "      <td>0.0225</td>\n",
       "      <td>0.04</td>\n",
       "      <td>10</td>\n",
       "      <td>34</td>\n",
       "      <td>Parts per billion</td>\n",
       "      <td>3.000</td>\n",
       "      <td>9.0</td>\n",
       "      <td>21</td>\n",
       "      <td>13.0</td>\n",
       "      <td>Parts per million</td>\n",
       "      <td>1.145833</td>\n",
       "      <td>4.2</td>\n",
       "      <td>21</td>\n",
       "      <td>NaN</td>\n",
       "    </tr>\n",
       "    <tr>\n",
       "      <th>1</th>\n",
       "      <td>4</td>\n",
       "      <td>13</td>\n",
       "      <td>3002</td>\n",
       "      <td>1645 E ROOSEVELT ST-CENTRAL PHOENIX STN</td>\n",
       "      <td>Arizona</td>\n",
       "      <td>Maricopa</td>\n",
       "      <td>Phoenix</td>\n",
       "      <td>2000-01-01</td>\n",
       "      <td>Parts per billion</td>\n",
       "      <td>19.041667</td>\n",
       "      <td>49.0</td>\n",
       "      <td>19</td>\n",
       "      <td>46</td>\n",
       "      <td>Parts per million</td>\n",
       "      <td>0.0225</td>\n",
       "      <td>0.04</td>\n",
       "      <td>10</td>\n",
       "      <td>34</td>\n",
       "      <td>Parts per billion</td>\n",
       "      <td>3.000</td>\n",
       "      <td>9.0</td>\n",
       "      <td>21</td>\n",
       "      <td>13.0</td>\n",
       "      <td>Parts per million</td>\n",
       "      <td>0.878947</td>\n",
       "      <td>2.2</td>\n",
       "      <td>23</td>\n",
       "      <td>25.0</td>\n",
       "    </tr>\n",
       "    <tr>\n",
       "      <th>2</th>\n",
       "      <td>4</td>\n",
       "      <td>13</td>\n",
       "      <td>3002</td>\n",
       "      <td>1645 E ROOSEVELT ST-CENTRAL PHOENIX STN</td>\n",
       "      <td>Arizona</td>\n",
       "      <td>Maricopa</td>\n",
       "      <td>Phoenix</td>\n",
       "      <td>2000-01-01</td>\n",
       "      <td>Parts per billion</td>\n",
       "      <td>19.041667</td>\n",
       "      <td>49.0</td>\n",
       "      <td>19</td>\n",
       "      <td>46</td>\n",
       "      <td>Parts per million</td>\n",
       "      <td>0.0225</td>\n",
       "      <td>0.04</td>\n",
       "      <td>10</td>\n",
       "      <td>34</td>\n",
       "      <td>Parts per billion</td>\n",
       "      <td>2.975</td>\n",
       "      <td>6.6</td>\n",
       "      <td>23</td>\n",
       "      <td>NaN</td>\n",
       "      <td>Parts per million</td>\n",
       "      <td>1.145833</td>\n",
       "      <td>4.2</td>\n",
       "      <td>21</td>\n",
       "      <td>NaN</td>\n",
       "    </tr>\n",
       "  </tbody>\n",
       "</table>\n",
       "</div>"
      ],
      "text/plain": [
       "   State Code  County Code  Site Num                                  Address  \\\n",
       "0           4           13      3002  1645 E ROOSEVELT ST-CENTRAL PHOENIX STN   \n",
       "1           4           13      3002  1645 E ROOSEVELT ST-CENTRAL PHOENIX STN   \n",
       "2           4           13      3002  1645 E ROOSEVELT ST-CENTRAL PHOENIX STN   \n",
       "\n",
       "     State    County     City  Date Local          NO2 Units   NO2 Mean  \\\n",
       "0  Arizona  Maricopa  Phoenix  2000-01-01  Parts per billion  19.041667   \n",
       "1  Arizona  Maricopa  Phoenix  2000-01-01  Parts per billion  19.041667   \n",
       "2  Arizona  Maricopa  Phoenix  2000-01-01  Parts per billion  19.041667   \n",
       "\n",
       "   NO2 1st Max Value  NO2 1st Max Hour  NO2 AQI           O3 Units  O3 Mean  \\\n",
       "0               49.0                19       46  Parts per million   0.0225   \n",
       "1               49.0                19       46  Parts per million   0.0225   \n",
       "2               49.0                19       46  Parts per million   0.0225   \n",
       "\n",
       "   O3 1st Max Value  O3 1st Max Hour  O3 AQI          SO2 Units  SO2 Mean  \\\n",
       "0              0.04               10      34  Parts per billion     3.000   \n",
       "1              0.04               10      34  Parts per billion     3.000   \n",
       "2              0.04               10      34  Parts per billion     2.975   \n",
       "\n",
       "   SO2 1st Max Value  SO2 1st Max Hour  SO2 AQI           CO Units   CO Mean  \\\n",
       "0                9.0                21     13.0  Parts per million  1.145833   \n",
       "1                9.0                21     13.0  Parts per million  0.878947   \n",
       "2                6.6                23      NaN  Parts per million  1.145833   \n",
       "\n",
       "   CO 1st Max Value  CO 1st Max Hour  CO AQI  \n",
       "0               4.2               21     NaN  \n",
       "1               2.2               23    25.0  \n",
       "2               4.2               21     NaN  "
      ]
     },
     "execution_count": 2,
     "metadata": {},
     "output_type": "execute_result"
    }
   ],
   "source": [
    "# file path\n",
    "read_data = \"pollution_us_2000_2016.csv\"\n",
    "\n",
    "# read the dataset\n",
    "df = pd.read_csv(read_data)\n",
    "\n",
    "# drop the first column as it indicate just row numbers\n",
    "df.drop(\"Unnamed: 0\",axis=1,inplace=True)\n",
    "df.head(3)"
   ]
  },
  {
   "cell_type": "code",
   "execution_count": 3,
   "id": "e3b237d4",
   "metadata": {},
   "outputs": [
    {
     "data": {
      "text/plain": [
       "(1746661, 28)"
      ]
     },
     "execution_count": 3,
     "metadata": {},
     "output_type": "execute_result"
    }
   ],
   "source": [
    "# check data shape \n",
    "df.shape"
   ]
  },
  {
   "cell_type": "code",
   "execution_count": 4,
   "id": "9ad8e161",
   "metadata": {},
   "outputs": [
    {
     "data": {
      "text/plain": [
       "5032"
      ]
     },
     "execution_count": 4,
     "metadata": {},
     "output_type": "execute_result"
    }
   ],
   "source": [
    "# check for duplicates row in the dataset\n",
    "df.duplicated().sum()"
   ]
  },
  {
   "cell_type": "code",
   "execution_count": 5,
   "id": "c253b798",
   "metadata": {},
   "outputs": [
    {
     "data": {
      "text/plain": [
       "(1741629, 28)"
      ]
     },
     "execution_count": 5,
     "metadata": {},
     "output_type": "execute_result"
    }
   ],
   "source": [
    "# drop duplicate rows\n",
    "df.drop_duplicates(inplace=True)\n",
    "\n",
    "# check new data shape\n",
    "df.shape"
   ]
  },
  {
   "cell_type": "markdown",
   "id": "7bff85bb",
   "metadata": {},
   "source": [
    "# Descriptive statisitics of numerical attribute helps in understanding data distribution. It displays the mean, standard deviation, and percentile for all the numerical column in the dataset.\n",
    "\n",
    "1. For example from below table we can see the mean AQI for different pollutants.\n",
    "2. Also we can the minimum and maximum value of AQI for all the pollutants.\n",
    "\n",
    "3. This is just done to understand data well for example after this step I know that O3 AQI minimum value would be 0 and maximum value is 420 in the dataset.\n",
    "\n",
    "4. This statistics is not at all related to training"
   ]
  },
  {
   "cell_type": "code",
   "execution_count": 6,
   "id": "9d69a1d4",
   "metadata": {},
   "outputs": [
    {
     "data": {
      "text/html": [
       "<div>\n",
       "<style scoped>\n",
       "    .dataframe tbody tr th:only-of-type {\n",
       "        vertical-align: middle;\n",
       "    }\n",
       "\n",
       "    .dataframe tbody tr th {\n",
       "        vertical-align: top;\n",
       "    }\n",
       "\n",
       "    .dataframe thead th {\n",
       "        text-align: right;\n",
       "    }\n",
       "</style>\n",
       "<table border=\"1\" class=\"dataframe\">\n",
       "  <thead>\n",
       "    <tr style=\"text-align: right;\">\n",
       "      <th></th>\n",
       "      <th>State Code</th>\n",
       "      <th>County Code</th>\n",
       "      <th>Site Num</th>\n",
       "      <th>NO2 Mean</th>\n",
       "      <th>NO2 1st Max Value</th>\n",
       "      <th>NO2 1st Max Hour</th>\n",
       "      <th>NO2 AQI</th>\n",
       "      <th>O3 Mean</th>\n",
       "      <th>O3 1st Max Value</th>\n",
       "      <th>O3 1st Max Hour</th>\n",
       "      <th>O3 AQI</th>\n",
       "      <th>SO2 Mean</th>\n",
       "      <th>SO2 1st Max Value</th>\n",
       "      <th>SO2 1st Max Hour</th>\n",
       "      <th>SO2 AQI</th>\n",
       "      <th>CO Mean</th>\n",
       "      <th>CO 1st Max Value</th>\n",
       "      <th>CO 1st Max Hour</th>\n",
       "      <th>CO AQI</th>\n",
       "    </tr>\n",
       "  </thead>\n",
       "  <tbody>\n",
       "    <tr>\n",
       "      <th>count</th>\n",
       "      <td>1.741629e+06</td>\n",
       "      <td>1.741629e+06</td>\n",
       "      <td>1.741629e+06</td>\n",
       "      <td>1.741629e+06</td>\n",
       "      <td>1.741629e+06</td>\n",
       "      <td>1.741629e+06</td>\n",
       "      <td>1.741629e+06</td>\n",
       "      <td>1.741629e+06</td>\n",
       "      <td>1.741629e+06</td>\n",
       "      <td>1.741629e+06</td>\n",
       "      <td>1.741629e+06</td>\n",
       "      <td>1.741629e+06</td>\n",
       "      <td>1.741629e+06</td>\n",
       "      <td>1.741629e+06</td>\n",
       "      <td>871285.000000</td>\n",
       "      <td>1.741629e+06</td>\n",
       "      <td>1.741629e+06</td>\n",
       "      <td>1.741629e+06</td>\n",
       "      <td>870641.000000</td>\n",
       "    </tr>\n",
       "    <tr>\n",
       "      <th>mean</th>\n",
       "      <td>2.227342e+01</td>\n",
       "      <td>7.161298e+01</td>\n",
       "      <td>1.120184e+03</td>\n",
       "      <td>1.282225e+01</td>\n",
       "      <td>2.541112e+01</td>\n",
       "      <td>1.172808e+01</td>\n",
       "      <td>2.389458e+01</td>\n",
       "      <td>2.611990e-02</td>\n",
       "      <td>3.919667e-02</td>\n",
       "      <td>1.016794e+01</td>\n",
       "      <td>3.603631e+01</td>\n",
       "      <td>1.872209e+00</td>\n",
       "      <td>4.496270e+00</td>\n",
       "      <td>9.663176e+00</td>\n",
       "      <td>7.121317</td>\n",
       "      <td>3.683295e-01</td>\n",
       "      <td>6.203171e-01</td>\n",
       "      <td>7.872603e+00</td>\n",
       "      <td>5.995909</td>\n",
       "    </tr>\n",
       "    <tr>\n",
       "      <th>std</th>\n",
       "      <td>1.724575e+01</td>\n",
       "      <td>7.954513e+01</td>\n",
       "      <td>2.004000e+03</td>\n",
       "      <td>9.509134e+00</td>\n",
       "      <td>1.599956e+01</td>\n",
       "      <td>7.876583e+00</td>\n",
       "      <td>1.516127e+01</td>\n",
       "      <td>1.136705e-02</td>\n",
       "      <td>1.533386e-02</td>\n",
       "      <td>4.002038e+00</td>\n",
       "      <td>1.974284e+01</td>\n",
       "      <td>2.762601e+00</td>\n",
       "      <td>7.685450e+00</td>\n",
       "      <td>6.729269e+00</td>\n",
       "      <td>11.942978</td>\n",
       "      <td>3.139755e-01</td>\n",
       "      <td>6.438836e-01</td>\n",
       "      <td>7.977721e+00</td>\n",
       "      <td>5.845416</td>\n",
       "    </tr>\n",
       "    <tr>\n",
       "      <th>min</th>\n",
       "      <td>1.000000e+00</td>\n",
       "      <td>1.000000e+00</td>\n",
       "      <td>1.000000e+00</td>\n",
       "      <td>-2.000000e+00</td>\n",
       "      <td>-2.000000e+00</td>\n",
       "      <td>0.000000e+00</td>\n",
       "      <td>0.000000e+00</td>\n",
       "      <td>0.000000e+00</td>\n",
       "      <td>0.000000e+00</td>\n",
       "      <td>0.000000e+00</td>\n",
       "      <td>0.000000e+00</td>\n",
       "      <td>-2.000000e+00</td>\n",
       "      <td>-2.000000e+00</td>\n",
       "      <td>0.000000e+00</td>\n",
       "      <td>0.000000</td>\n",
       "      <td>-4.375000e-01</td>\n",
       "      <td>-4.000000e-01</td>\n",
       "      <td>0.000000e+00</td>\n",
       "      <td>0.000000</td>\n",
       "    </tr>\n",
       "    <tr>\n",
       "      <th>25%</th>\n",
       "      <td>6.000000e+00</td>\n",
       "      <td>1.700000e+01</td>\n",
       "      <td>9.000000e+00</td>\n",
       "      <td>5.750000e+00</td>\n",
       "      <td>1.300000e+01</td>\n",
       "      <td>5.000000e+00</td>\n",
       "      <td>1.200000e+01</td>\n",
       "      <td>1.787500e-02</td>\n",
       "      <td>2.900000e-02</td>\n",
       "      <td>9.000000e+00</td>\n",
       "      <td>2.500000e+01</td>\n",
       "      <td>2.571430e-01</td>\n",
       "      <td>9.000000e-01</td>\n",
       "      <td>5.000000e+00</td>\n",
       "      <td>1.000000</td>\n",
       "      <td>1.833330e-01</td>\n",
       "      <td>2.920000e-01</td>\n",
       "      <td>0.000000e+00</td>\n",
       "      <td>2.000000</td>\n",
       "    </tr>\n",
       "    <tr>\n",
       "      <th>50%</th>\n",
       "      <td>1.700000e+01</td>\n",
       "      <td>5.900000e+01</td>\n",
       "      <td>6.000000e+01</td>\n",
       "      <td>1.073913e+01</td>\n",
       "      <td>2.400000e+01</td>\n",
       "      <td>9.000000e+00</td>\n",
       "      <td>2.300000e+01</td>\n",
       "      <td>2.587500e-02</td>\n",
       "      <td>3.800000e-02</td>\n",
       "      <td>1.000000e+01</td>\n",
       "      <td>3.300000e+01</td>\n",
       "      <td>9.875000e-01</td>\n",
       "      <td>2.000000e+00</td>\n",
       "      <td>8.000000e+00</td>\n",
       "      <td>3.000000</td>\n",
       "      <td>2.939130e-01</td>\n",
       "      <td>4.000000e-01</td>\n",
       "      <td>6.000000e+00</td>\n",
       "      <td>5.000000</td>\n",
       "    </tr>\n",
       "    <tr>\n",
       "      <th>75%</th>\n",
       "      <td>4.000000e+01</td>\n",
       "      <td>9.700000e+01</td>\n",
       "      <td>1.039000e+03</td>\n",
       "      <td>1.771429e+01</td>\n",
       "      <td>3.560000e+01</td>\n",
       "      <td>2.000000e+01</td>\n",
       "      <td>3.300000e+01</td>\n",
       "      <td>3.388900e-02</td>\n",
       "      <td>4.800000e-02</td>\n",
       "      <td>1.100000e+01</td>\n",
       "      <td>4.200000e+01</td>\n",
       "      <td>2.328571e+00</td>\n",
       "      <td>5.000000e+00</td>\n",
       "      <td>1.400000e+01</td>\n",
       "      <td>9.000000</td>\n",
       "      <td>4.666670e-01</td>\n",
       "      <td>8.000000e-01</td>\n",
       "      <td>1.300000e+01</td>\n",
       "      <td>8.000000</td>\n",
       "    </tr>\n",
       "    <tr>\n",
       "      <th>max</th>\n",
       "      <td>8.000000e+01</td>\n",
       "      <td>6.500000e+02</td>\n",
       "      <td>9.997000e+03</td>\n",
       "      <td>1.395417e+02</td>\n",
       "      <td>2.670000e+02</td>\n",
       "      <td>2.300000e+01</td>\n",
       "      <td>1.320000e+02</td>\n",
       "      <td>9.508300e-02</td>\n",
       "      <td>1.410000e-01</td>\n",
       "      <td>2.300000e+01</td>\n",
       "      <td>2.180000e+02</td>\n",
       "      <td>3.216250e+02</td>\n",
       "      <td>3.510000e+02</td>\n",
       "      <td>2.300000e+01</td>\n",
       "      <td>200.000000</td>\n",
       "      <td>7.508333e+00</td>\n",
       "      <td>1.990000e+01</td>\n",
       "      <td>2.300000e+01</td>\n",
       "      <td>201.000000</td>\n",
       "    </tr>\n",
       "  </tbody>\n",
       "</table>\n",
       "</div>"
      ],
      "text/plain": [
       "         State Code   County Code      Site Num      NO2 Mean  \\\n",
       "count  1.741629e+06  1.741629e+06  1.741629e+06  1.741629e+06   \n",
       "mean   2.227342e+01  7.161298e+01  1.120184e+03  1.282225e+01   \n",
       "std    1.724575e+01  7.954513e+01  2.004000e+03  9.509134e+00   \n",
       "min    1.000000e+00  1.000000e+00  1.000000e+00 -2.000000e+00   \n",
       "25%    6.000000e+00  1.700000e+01  9.000000e+00  5.750000e+00   \n",
       "50%    1.700000e+01  5.900000e+01  6.000000e+01  1.073913e+01   \n",
       "75%    4.000000e+01  9.700000e+01  1.039000e+03  1.771429e+01   \n",
       "max    8.000000e+01  6.500000e+02  9.997000e+03  1.395417e+02   \n",
       "\n",
       "       NO2 1st Max Value  NO2 1st Max Hour       NO2 AQI       O3 Mean  \\\n",
       "count       1.741629e+06      1.741629e+06  1.741629e+06  1.741629e+06   \n",
       "mean        2.541112e+01      1.172808e+01  2.389458e+01  2.611990e-02   \n",
       "std         1.599956e+01      7.876583e+00  1.516127e+01  1.136705e-02   \n",
       "min        -2.000000e+00      0.000000e+00  0.000000e+00  0.000000e+00   \n",
       "25%         1.300000e+01      5.000000e+00  1.200000e+01  1.787500e-02   \n",
       "50%         2.400000e+01      9.000000e+00  2.300000e+01  2.587500e-02   \n",
       "75%         3.560000e+01      2.000000e+01  3.300000e+01  3.388900e-02   \n",
       "max         2.670000e+02      2.300000e+01  1.320000e+02  9.508300e-02   \n",
       "\n",
       "       O3 1st Max Value  O3 1st Max Hour        O3 AQI      SO2 Mean  \\\n",
       "count      1.741629e+06     1.741629e+06  1.741629e+06  1.741629e+06   \n",
       "mean       3.919667e-02     1.016794e+01  3.603631e+01  1.872209e+00   \n",
       "std        1.533386e-02     4.002038e+00  1.974284e+01  2.762601e+00   \n",
       "min        0.000000e+00     0.000000e+00  0.000000e+00 -2.000000e+00   \n",
       "25%        2.900000e-02     9.000000e+00  2.500000e+01  2.571430e-01   \n",
       "50%        3.800000e-02     1.000000e+01  3.300000e+01  9.875000e-01   \n",
       "75%        4.800000e-02     1.100000e+01  4.200000e+01  2.328571e+00   \n",
       "max        1.410000e-01     2.300000e+01  2.180000e+02  3.216250e+02   \n",
       "\n",
       "       SO2 1st Max Value  SO2 1st Max Hour        SO2 AQI       CO Mean  \\\n",
       "count       1.741629e+06      1.741629e+06  871285.000000  1.741629e+06   \n",
       "mean        4.496270e+00      9.663176e+00       7.121317  3.683295e-01   \n",
       "std         7.685450e+00      6.729269e+00      11.942978  3.139755e-01   \n",
       "min        -2.000000e+00      0.000000e+00       0.000000 -4.375000e-01   \n",
       "25%         9.000000e-01      5.000000e+00       1.000000  1.833330e-01   \n",
       "50%         2.000000e+00      8.000000e+00       3.000000  2.939130e-01   \n",
       "75%         5.000000e+00      1.400000e+01       9.000000  4.666670e-01   \n",
       "max         3.510000e+02      2.300000e+01     200.000000  7.508333e+00   \n",
       "\n",
       "       CO 1st Max Value  CO 1st Max Hour         CO AQI  \n",
       "count      1.741629e+06     1.741629e+06  870641.000000  \n",
       "mean       6.203171e-01     7.872603e+00       5.995909  \n",
       "std        6.438836e-01     7.977721e+00       5.845416  \n",
       "min       -4.000000e-01     0.000000e+00       0.000000  \n",
       "25%        2.920000e-01     0.000000e+00       2.000000  \n",
       "50%        4.000000e-01     6.000000e+00       5.000000  \n",
       "75%        8.000000e-01     1.300000e+01       8.000000  \n",
       "max        1.990000e+01     2.300000e+01     201.000000  "
      ]
     },
     "execution_count": 6,
     "metadata": {},
     "output_type": "execute_result"
    }
   ],
   "source": [
    "# check descriptive statistics for numerical attribute\n",
    "df.describe()"
   ]
  },
  {
   "cell_type": "markdown",
   "id": "bf88afb2",
   "metadata": {},
   "source": [
    "# Descriptive statisitics of categorical attribute helps in understanding data distribution.\n",
    "\n",
    "1. It displays the nummber of unique values and most frequent value in all the categorical column in the dataset.\n",
    "\n",
    "2. For example from below table we can see \"Address\" column has 204 unique values with most frequent value being \"PIKE AVE AT RIVER ROAD\".\n",
    "\n",
    "3. This is done to understand data well for example after this step I know that NO2 & SO2 units are measured in Parts per billion across the dataset as there is only single value.\n",
    "\n",
    "4. O3 & CO units are measured in Parts per million across the dataset as there is only single value.\n",
    "\n",
    "5. This statistics is not at all related to training"
   ]
  },
  {
   "cell_type": "markdown",
   "id": "4e47698e",
   "metadata": {},
   "source": [
    "I belived that this data is captured by AIR Quality Monitoring Station which are situated in different countries and different states and it may happen some countries/cities might not have any AIQ Quality station hence there is not data for them. "
   ]
  },
  {
   "cell_type": "code",
   "execution_count": 7,
   "id": "8f8caf4c",
   "metadata": {},
   "outputs": [
    {
     "data": {
      "text/html": [
       "<div>\n",
       "<style scoped>\n",
       "    .dataframe tbody tr th:only-of-type {\n",
       "        vertical-align: middle;\n",
       "    }\n",
       "\n",
       "    .dataframe tbody tr th {\n",
       "        vertical-align: top;\n",
       "    }\n",
       "\n",
       "    .dataframe thead th {\n",
       "        text-align: right;\n",
       "    }\n",
       "</style>\n",
       "<table border=\"1\" class=\"dataframe\">\n",
       "  <thead>\n",
       "    <tr style=\"text-align: right;\">\n",
       "      <th></th>\n",
       "      <th>Address</th>\n",
       "      <th>State</th>\n",
       "      <th>County</th>\n",
       "      <th>City</th>\n",
       "      <th>Date Local</th>\n",
       "      <th>NO2 Units</th>\n",
       "      <th>O3 Units</th>\n",
       "      <th>SO2 Units</th>\n",
       "      <th>CO Units</th>\n",
       "    </tr>\n",
       "  </thead>\n",
       "  <tbody>\n",
       "    <tr>\n",
       "      <th>count</th>\n",
       "      <td>1741629</td>\n",
       "      <td>1741629</td>\n",
       "      <td>1741629</td>\n",
       "      <td>1741629</td>\n",
       "      <td>1741629</td>\n",
       "      <td>1741629</td>\n",
       "      <td>1741629</td>\n",
       "      <td>1741629</td>\n",
       "      <td>1741629</td>\n",
       "    </tr>\n",
       "    <tr>\n",
       "      <th>unique</th>\n",
       "      <td>204</td>\n",
       "      <td>47</td>\n",
       "      <td>133</td>\n",
       "      <td>144</td>\n",
       "      <td>5996</td>\n",
       "      <td>1</td>\n",
       "      <td>1</td>\n",
       "      <td>1</td>\n",
       "      <td>1</td>\n",
       "    </tr>\n",
       "    <tr>\n",
       "      <th>top</th>\n",
       "      <td>PIKE AVE AT RIVER ROAD</td>\n",
       "      <td>California</td>\n",
       "      <td>Los Angeles</td>\n",
       "      <td>Not in a city</td>\n",
       "      <td>2013-04-17</td>\n",
       "      <td>Parts per billion</td>\n",
       "      <td>Parts per million</td>\n",
       "      <td>Parts per billion</td>\n",
       "      <td>Parts per million</td>\n",
       "    </tr>\n",
       "    <tr>\n",
       "      <th>freq</th>\n",
       "      <td>35117</td>\n",
       "      <td>575628</td>\n",
       "      <td>93371</td>\n",
       "      <td>138375</td>\n",
       "      <td>408</td>\n",
       "      <td>1741629</td>\n",
       "      <td>1741629</td>\n",
       "      <td>1741629</td>\n",
       "      <td>1741629</td>\n",
       "    </tr>\n",
       "  </tbody>\n",
       "</table>\n",
       "</div>"
      ],
      "text/plain": [
       "                       Address       State       County           City  \\\n",
       "count                  1741629     1741629      1741629        1741629   \n",
       "unique                     204          47          133            144   \n",
       "top     PIKE AVE AT RIVER ROAD  California  Los Angeles  Not in a city   \n",
       "freq                     35117      575628        93371         138375   \n",
       "\n",
       "        Date Local          NO2 Units           O3 Units          SO2 Units  \\\n",
       "count      1741629            1741629            1741629            1741629   \n",
       "unique        5996                  1                  1                  1   \n",
       "top     2013-04-17  Parts per billion  Parts per million  Parts per billion   \n",
       "freq           408            1741629            1741629            1741629   \n",
       "\n",
       "                 CO Units  \n",
       "count             1741629  \n",
       "unique                  1  \n",
       "top     Parts per million  \n",
       "freq              1741629  "
      ]
     },
     "execution_count": 7,
     "metadata": {},
     "output_type": "execute_result"
    }
   ],
   "source": [
    "# check descriptive statistics for categorical attribute\n",
    "df.describe(include=np.object)"
   ]
  },
  {
   "cell_type": "code",
   "execution_count": 8,
   "id": "a1144c15",
   "metadata": {},
   "outputs": [
    {
     "data": {
      "text/plain": [
       "47"
      ]
     },
     "execution_count": 8,
     "metadata": {},
     "output_type": "execute_result"
    }
   ],
   "source": [
    "# check for unique state in the data\n",
    "df['State'].nunique()"
   ]
  },
  {
   "cell_type": "code",
   "execution_count": 9,
   "id": "b3ec8e0b",
   "metadata": {},
   "outputs": [
    {
     "data": {
      "text/plain": [
       "133"
      ]
     },
     "execution_count": 9,
     "metadata": {},
     "output_type": "execute_result"
    }
   ],
   "source": [
    "# check for unique country in the data\n",
    "df['County'].nunique()"
   ]
  },
  {
   "cell_type": "code",
   "execution_count": 10,
   "id": "09e49467",
   "metadata": {},
   "outputs": [
    {
     "data": {
      "text/plain": [
       "144"
      ]
     },
     "execution_count": 10,
     "metadata": {},
     "output_type": "execute_result"
    }
   ],
   "source": [
    "# check for unique City in the data\n",
    "df['City'].nunique()"
   ]
  },
  {
   "cell_type": "markdown",
   "id": "c0f88b69",
   "metadata": {},
   "source": [
    "# The below code displays the count of missing data points for each column in the dataset\n",
    "\n",
    "0 indicates that this column does not have any missing value."
   ]
  },
  {
   "cell_type": "markdown",
   "id": "295089cb",
   "metadata": {},
   "source": [
    "# When loading csv files, the date column in the dataset is read as text data by python pandas.\n",
    "\n",
    "To work with Time Series we need to convert this text date into python date time so that python knows this column refers to calender date and time otherwise it would be just some text for python\n",
    "\n",
    "After converting it to python date time we are checking descriptive statistics which revelas the range of the calender date time for example the below code shows that we have date from 2000-01-01 to 2016-05-31"
   ]
  },
  {
   "cell_type": "code",
   "execution_count": 11,
   "id": "e0756281",
   "metadata": {},
   "outputs": [
    {
     "data": {
      "text/plain": [
       "State Code                0\n",
       "County Code               0\n",
       "Site Num                  0\n",
       "Address                   0\n",
       "State                     0\n",
       "County                    0\n",
       "City                      0\n",
       "Date Local                0\n",
       "NO2 Units                 0\n",
       "NO2 Mean                  0\n",
       "NO2 1st Max Value         0\n",
       "NO2 1st Max Hour          0\n",
       "NO2 AQI                   0\n",
       "O3 Units                  0\n",
       "O3 Mean                   0\n",
       "O3 1st Max Value          0\n",
       "O3 1st Max Hour           0\n",
       "O3 AQI                    0\n",
       "SO2 Units                 0\n",
       "SO2 Mean                  0\n",
       "SO2 1st Max Value         0\n",
       "SO2 1st Max Hour          0\n",
       "SO2 AQI              870344\n",
       "CO Units                  0\n",
       "CO Mean                   0\n",
       "CO 1st Max Value          0\n",
       "CO 1st Max Hour           0\n",
       "CO AQI               870988\n",
       "dtype: int64"
      ]
     },
     "execution_count": 11,
     "metadata": {},
     "output_type": "execute_result"
    }
   ],
   "source": [
    "# check for missing value \n",
    "df.isna().sum()"
   ]
  },
  {
   "cell_type": "code",
   "execution_count": 12,
   "id": "219862e2",
   "metadata": {},
   "outputs": [
    {
     "data": {
      "text/plain": [
       "count                          1741629\n",
       "mean     2008-10-12 22:57:38.410488320\n",
       "min                2000-01-01 00:00:00\n",
       "25%                2004-11-20 00:00:00\n",
       "50%                2009-01-31 00:00:00\n",
       "75%                2012-11-07 00:00:00\n",
       "max                2016-05-31 00:00:00\n",
       "Name: date, dtype: object"
      ]
     },
     "execution_count": 12,
     "metadata": {},
     "output_type": "execute_result"
    }
   ],
   "source": [
    "# convert Date local to python date and time \n",
    "df['date'] =  pd.to_datetime(df['Date Local'])\n",
    "\n",
    "# check descriptive statistics for date\n",
    "df['date'].describe(datetime_is_numeric=True)"
   ]
  },
  {
   "cell_type": "markdown",
   "id": "d179f8a4",
   "metadata": {},
   "source": [
    "# Time Series data needs to have only value for each date and here we have multiple value of AQI for same city for a single date.\n",
    "\n",
    "To create Time Series data we are aggregating data by calculating MEAN AQI for each day for each city. This would ensure for given city we have only value AQI for any given date.\n",
    "\n",
    "Since we are interested in AQI prediction we are aggreating the dataset only for AQI's columns. "
   ]
  },
  {
   "cell_type": "code",
   "execution_count": 13,
   "id": "2e1349b3",
   "metadata": {},
   "outputs": [
    {
     "data": {
      "text/html": [
       "<div>\n",
       "<style scoped>\n",
       "    .dataframe tbody tr th:only-of-type {\n",
       "        vertical-align: middle;\n",
       "    }\n",
       "\n",
       "    .dataframe tbody tr th {\n",
       "        vertical-align: top;\n",
       "    }\n",
       "\n",
       "    .dataframe thead th {\n",
       "        text-align: right;\n",
       "    }\n",
       "</style>\n",
       "<table border=\"1\" class=\"dataframe\">\n",
       "  <thead>\n",
       "    <tr style=\"text-align: right;\">\n",
       "      <th></th>\n",
       "      <th></th>\n",
       "      <th>NO2 AQI</th>\n",
       "      <th>O3 AQI</th>\n",
       "      <th>SO2 AQI</th>\n",
       "      <th>CO AQI</th>\n",
       "    </tr>\n",
       "    <tr>\n",
       "      <th>City</th>\n",
       "      <th>date</th>\n",
       "      <th></th>\n",
       "      <th></th>\n",
       "      <th></th>\n",
       "      <th></th>\n",
       "    </tr>\n",
       "  </thead>\n",
       "  <tbody>\n",
       "    <tr>\n",
       "      <th rowspan=\"3\" valign=\"top\">Albuquerque</th>\n",
       "      <th>2011-01-01</th>\n",
       "      <td>19.0</td>\n",
       "      <td>30.0</td>\n",
       "      <td>0.0</td>\n",
       "      <td>2.0</td>\n",
       "    </tr>\n",
       "    <tr>\n",
       "      <th>2011-01-02</th>\n",
       "      <td>38.0</td>\n",
       "      <td>28.0</td>\n",
       "      <td>1.0</td>\n",
       "      <td>7.0</td>\n",
       "    </tr>\n",
       "    <tr>\n",
       "      <th>2011-01-03</th>\n",
       "      <td>44.0</td>\n",
       "      <td>14.0</td>\n",
       "      <td>3.0</td>\n",
       "      <td>13.0</td>\n",
       "    </tr>\n",
       "  </tbody>\n",
       "</table>\n",
       "</div>"
      ],
      "text/plain": [
       "                        NO2 AQI  O3 AQI  SO2 AQI  CO AQI\n",
       "City        date                                        \n",
       "Albuquerque 2011-01-01     19.0    30.0      0.0     2.0\n",
       "            2011-01-02     38.0    28.0      1.0     7.0\n",
       "            2011-01-03     44.0    14.0      3.0    13.0"
      ]
     },
     "execution_count": 13,
     "metadata": {},
     "output_type": "execute_result"
    }
   ],
   "source": [
    "# compute mean AQI for each citiy for each date\n",
    "mean_aqi = df.groupby(['City','date'])[['NO2 AQI','O3 AQI','SO2 AQI','CO AQI']].mean()\n",
    "\n",
    "# check new data frame\n",
    "mean_aqi.head(3)"
   ]
  },
  {
   "cell_type": "code",
   "execution_count": 14,
   "id": "286db20e",
   "metadata": {},
   "outputs": [
    {
     "data": {
      "text/plain": [
       "(359263, 4)"
      ]
     },
     "execution_count": 14,
     "metadata": {},
     "output_type": "execute_result"
    }
   ],
   "source": [
    "# check data shape\n",
    "mean_aqi.shape"
   ]
  },
  {
   "cell_type": "markdown",
   "id": "69c658f5",
   "metadata": {},
   "source": [
    "# This is again checking AQI distribution like what is minimum value and maximum value"
   ]
  },
  {
   "cell_type": "code",
   "execution_count": 15,
   "id": "fec0cd6a",
   "metadata": {},
   "outputs": [
    {
     "data": {
      "text/html": [
       "<div>\n",
       "<style scoped>\n",
       "    .dataframe tbody tr th:only-of-type {\n",
       "        vertical-align: middle;\n",
       "    }\n",
       "\n",
       "    .dataframe tbody tr th {\n",
       "        vertical-align: top;\n",
       "    }\n",
       "\n",
       "    .dataframe thead th {\n",
       "        text-align: right;\n",
       "    }\n",
       "</style>\n",
       "<table border=\"1\" class=\"dataframe\">\n",
       "  <thead>\n",
       "    <tr style=\"text-align: right;\">\n",
       "      <th></th>\n",
       "      <th>NO2 AQI</th>\n",
       "      <th>O3 AQI</th>\n",
       "      <th>SO2 AQI</th>\n",
       "      <th>CO AQI</th>\n",
       "    </tr>\n",
       "  </thead>\n",
       "  <tbody>\n",
       "    <tr>\n",
       "      <th>count</th>\n",
       "      <td>359263.000000</td>\n",
       "      <td>359263.000000</td>\n",
       "      <td>359263.000000</td>\n",
       "      <td>359089.000000</td>\n",
       "    </tr>\n",
       "    <tr>\n",
       "      <th>mean</th>\n",
       "      <td>24.235140</td>\n",
       "      <td>36.149585</td>\n",
       "      <td>7.512030</td>\n",
       "      <td>6.100780</td>\n",
       "    </tr>\n",
       "    <tr>\n",
       "      <th>std</th>\n",
       "      <td>14.913906</td>\n",
       "      <td>19.902530</td>\n",
       "      <td>12.302273</td>\n",
       "      <td>5.957218</td>\n",
       "    </tr>\n",
       "    <tr>\n",
       "      <th>min</th>\n",
       "      <td>0.000000</td>\n",
       "      <td>0.000000</td>\n",
       "      <td>0.000000</td>\n",
       "      <td>0.000000</td>\n",
       "    </tr>\n",
       "    <tr>\n",
       "      <th>25%</th>\n",
       "      <td>13.000000</td>\n",
       "      <td>25.000000</td>\n",
       "      <td>1.000000</td>\n",
       "      <td>2.000000</td>\n",
       "    </tr>\n",
       "    <tr>\n",
       "      <th>50%</th>\n",
       "      <td>23.000000</td>\n",
       "      <td>33.000000</td>\n",
       "      <td>3.000000</td>\n",
       "      <td>5.000000</td>\n",
       "    </tr>\n",
       "    <tr>\n",
       "      <th>75%</th>\n",
       "      <td>33.500000</td>\n",
       "      <td>42.000000</td>\n",
       "      <td>9.000000</td>\n",
       "      <td>8.000000</td>\n",
       "    </tr>\n",
       "    <tr>\n",
       "      <th>max</th>\n",
       "      <td>132.000000</td>\n",
       "      <td>218.000000</td>\n",
       "      <td>200.000000</td>\n",
       "      <td>201.000000</td>\n",
       "    </tr>\n",
       "  </tbody>\n",
       "</table>\n",
       "</div>"
      ],
      "text/plain": [
       "             NO2 AQI         O3 AQI        SO2 AQI         CO AQI\n",
       "count  359263.000000  359263.000000  359263.000000  359089.000000\n",
       "mean       24.235140      36.149585       7.512030       6.100780\n",
       "std        14.913906      19.902530      12.302273       5.957218\n",
       "min         0.000000       0.000000       0.000000       0.000000\n",
       "25%        13.000000      25.000000       1.000000       2.000000\n",
       "50%        23.000000      33.000000       3.000000       5.000000\n",
       "75%        33.500000      42.000000       9.000000       8.000000\n",
       "max       132.000000     218.000000     200.000000     201.000000"
      ]
     },
     "execution_count": 15,
     "metadata": {},
     "output_type": "execute_result"
    }
   ],
   "source": [
    "# check descriptive statistics\n",
    "mean_aqi.describe()"
   ]
  },
  {
   "cell_type": "markdown",
   "id": "4b192cf4",
   "metadata": {},
   "source": [
    "# Checking missing data in the dataset as these are the values which we need to forecast.\n",
    "\n",
    "If there is any missing value then we need fill it with some value as most time series model do not work with missing data.\n",
    "\n",
    "They need to have all the data present."
   ]
  },
  {
   "cell_type": "code",
   "execution_count": 16,
   "id": "4d07bdf3",
   "metadata": {},
   "outputs": [
    {
     "data": {
      "text/plain": [
       "NO2 AQI      0\n",
       "O3 AQI       0\n",
       "SO2 AQI      0\n",
       "CO AQI     174\n",
       "dtype: int64"
      ]
     },
     "execution_count": 16,
     "metadata": {},
     "output_type": "execute_result"
    }
   ],
   "source": [
    "# check na counts\n",
    "mean_aqi.isna().sum()"
   ]
  },
  {
   "cell_type": "markdown",
   "id": "6868f268",
   "metadata": {},
   "source": [
    "# When data is grouped by City and Date they become index in the dataset. \n",
    "\n",
    "We converting back this index into columns using Reset Index as working with columns is easy compare to working with multindex of city and date."
   ]
  },
  {
   "cell_type": "code",
   "execution_count": 17,
   "id": "4d74e58b",
   "metadata": {},
   "outputs": [],
   "source": [
    "# reset index mean_aqi \n",
    "mean_aqi = mean_aqi.reset_index()"
   ]
  },
  {
   "cell_type": "markdown",
   "id": "3adf8122",
   "metadata": {},
   "source": [
    "# For Proof of concept we are selecting only one city.\n",
    "\n",
    "Also it makes sense to do city wise forecasting as tomorrow's washington AQI will depend only on past values of washington AQI it will not depend on other cities AQI's past values.\n",
    "\n",
    "For Proof Concept we are selecting only column of \"O3 AQI\""
   ]
  },
  {
   "cell_type": "code",
   "execution_count": 18,
   "id": "acac0ebe",
   "metadata": {},
   "outputs": [],
   "source": [
    "# select one single city for analysis and for developing proof of concepts\n",
    "city = 'Washington'\n",
    "\n",
    "# select one column for analysis and for developing proof of concepts\n",
    "col = 'O3 AQI'"
   ]
  },
  {
   "cell_type": "markdown",
   "id": "a237dffb",
   "metadata": {},
   "source": [
    "# Select data for only one city and select only one column."
   ]
  },
  {
   "cell_type": "code",
   "execution_count": 19,
   "id": "c13077bc",
   "metadata": {},
   "outputs": [
    {
     "data": {
      "text/html": [
       "<div>\n",
       "<style scoped>\n",
       "    .dataframe tbody tr th:only-of-type {\n",
       "        vertical-align: middle;\n",
       "    }\n",
       "\n",
       "    .dataframe tbody tr th {\n",
       "        vertical-align: top;\n",
       "    }\n",
       "\n",
       "    .dataframe thead th {\n",
       "        text-align: right;\n",
       "    }\n",
       "</style>\n",
       "<table border=\"1\" class=\"dataframe\">\n",
       "  <thead>\n",
       "    <tr style=\"text-align: right;\">\n",
       "      <th></th>\n",
       "      <th>date</th>\n",
       "      <th>O3 AQI</th>\n",
       "    </tr>\n",
       "  </thead>\n",
       "  <tbody>\n",
       "    <tr>\n",
       "      <th>335183</th>\n",
       "      <td>2000-01-01</td>\n",
       "      <td>12.0</td>\n",
       "    </tr>\n",
       "    <tr>\n",
       "      <th>335184</th>\n",
       "      <td>2000-01-02</td>\n",
       "      <td>25.0</td>\n",
       "    </tr>\n",
       "    <tr>\n",
       "      <th>335185</th>\n",
       "      <td>2000-01-03</td>\n",
       "      <td>22.0</td>\n",
       "    </tr>\n",
       "  </tbody>\n",
       "</table>\n",
       "</div>"
      ],
      "text/plain": [
       "             date  O3 AQI\n",
       "335183 2000-01-01    12.0\n",
       "335184 2000-01-02    25.0\n",
       "335185 2000-01-03    22.0"
      ]
     },
     "execution_count": 19,
     "metadata": {},
     "output_type": "execute_result"
    }
   ],
   "source": [
    "# create subset of dataset to include only city and column selected for analysis\n",
    "ts = mean_aqi.loc[mean_aqi['City'] == 'Washington',['date',col]]\n",
    "\n",
    "# check data\n",
    "ts.head(3)"
   ]
  },
  {
   "cell_type": "markdown",
   "id": "052537b5",
   "metadata": {},
   "source": [
    "# Create Time Series data where date is index and for each date index we have only single value.\n",
    "\n",
    "This is the format of time series data and this is the format of data expected by ARIMA Model."
   ]
  },
  {
   "cell_type": "code",
   "execution_count": 20,
   "id": "67ba9973",
   "metadata": {},
   "outputs": [
    {
     "data": {
      "text/html": [
       "<div>\n",
       "<style scoped>\n",
       "    .dataframe tbody tr th:only-of-type {\n",
       "        vertical-align: middle;\n",
       "    }\n",
       "\n",
       "    .dataframe tbody tr th {\n",
       "        vertical-align: top;\n",
       "    }\n",
       "\n",
       "    .dataframe thead th {\n",
       "        text-align: right;\n",
       "    }\n",
       "</style>\n",
       "<table border=\"1\" class=\"dataframe\">\n",
       "  <thead>\n",
       "    <tr style=\"text-align: right;\">\n",
       "      <th></th>\n",
       "      <th>O3 AQI</th>\n",
       "    </tr>\n",
       "    <tr>\n",
       "      <th>date</th>\n",
       "      <th></th>\n",
       "    </tr>\n",
       "  </thead>\n",
       "  <tbody>\n",
       "    <tr>\n",
       "      <th>2000-01-01</th>\n",
       "      <td>12.0</td>\n",
       "    </tr>\n",
       "    <tr>\n",
       "      <th>2000-01-02</th>\n",
       "      <td>25.0</td>\n",
       "    </tr>\n",
       "    <tr>\n",
       "      <th>2000-01-03</th>\n",
       "      <td>22.0</td>\n",
       "    </tr>\n",
       "  </tbody>\n",
       "</table>\n",
       "</div>"
      ],
      "text/plain": [
       "            O3 AQI\n",
       "date              \n",
       "2000-01-01    12.0\n",
       "2000-01-02    25.0\n",
       "2000-01-03    22.0"
      ]
     },
     "execution_count": 20,
     "metadata": {},
     "output_type": "execute_result"
    }
   ],
   "source": [
    "# create time series from data frame\n",
    "ts = ts.set_index('date')\n",
    "\n",
    "# check data\n",
    "ts.head(3)"
   ]
  },
  {
   "cell_type": "markdown",
   "id": "e5c371c8",
   "metadata": {},
   "source": [
    "# Check how many rows are there or how many observations are there in Time series."
   ]
  },
  {
   "cell_type": "code",
   "execution_count": 21,
   "id": "9f01bf41",
   "metadata": {},
   "outputs": [
    {
     "data": {
      "text/plain": [
       "(5791, 1)"
      ]
     },
     "execution_count": 21,
     "metadata": {},
     "output_type": "execute_result"
    }
   ],
   "source": [
    "# ts shape\n",
    "ts.shape"
   ]
  },
  {
   "cell_type": "markdown",
   "id": "0410d2d2",
   "metadata": {},
   "source": [
    "# Resampling Time Series would help to fill any missing date in the Time Series.\n",
    "\n",
    "1. Time Series data needs to have all the continous date from 2000-01-01 to 2016-05-31. It may happen some dates are not present in the dataset because no data was catpured on the date.\n",
    "\n",
    "2. This resampling of time series would ensure all the dates are present in the dataset.\n",
    "\n",
    "3. Dates which are not present in the dataset would be added by resampling.\n",
    "\n",
    "4. The value at new date can we filled using Forward fill method which would fill the previous date value to this new date."
   ]
  },
  {
   "cell_type": "code",
   "execution_count": 22,
   "id": "a1278f28",
   "metadata": {},
   "outputs": [
    {
     "data": {
      "text/html": [
       "<div>\n",
       "<style scoped>\n",
       "    .dataframe tbody tr th:only-of-type {\n",
       "        vertical-align: middle;\n",
       "    }\n",
       "\n",
       "    .dataframe tbody tr th {\n",
       "        vertical-align: top;\n",
       "    }\n",
       "\n",
       "    .dataframe thead th {\n",
       "        text-align: right;\n",
       "    }\n",
       "</style>\n",
       "<table border=\"1\" class=\"dataframe\">\n",
       "  <thead>\n",
       "    <tr style=\"text-align: right;\">\n",
       "      <th></th>\n",
       "      <th>O3 AQI</th>\n",
       "    </tr>\n",
       "    <tr>\n",
       "      <th>date</th>\n",
       "      <th></th>\n",
       "    </tr>\n",
       "  </thead>\n",
       "  <tbody>\n",
       "    <tr>\n",
       "      <th>2000-01-01</th>\n",
       "      <td>12.0</td>\n",
       "    </tr>\n",
       "    <tr>\n",
       "      <th>2000-01-02</th>\n",
       "      <td>25.0</td>\n",
       "    </tr>\n",
       "    <tr>\n",
       "      <th>2000-01-03</th>\n",
       "      <td>22.0</td>\n",
       "    </tr>\n",
       "  </tbody>\n",
       "</table>\n",
       "</div>"
      ],
      "text/plain": [
       "            O3 AQI\n",
       "date              \n",
       "2000-01-01    12.0\n",
       "2000-01-02    25.0\n",
       "2000-01-03    22.0"
      ]
     },
     "execution_count": 22,
     "metadata": {},
     "output_type": "execute_result"
    }
   ],
   "source": [
    "# resample time series to Daily Frequency\n",
    "# resample ensures that all dates from begining to end of the start series are present\n",
    "# use ffill  forward fill to handle missing valye filling the missing value from the previous day\n",
    "ts = ts.resample('D').mean().ffill()\n",
    "ts.head(3)"
   ]
  },
  {
   "cell_type": "markdown",
   "id": "1ae9da42",
   "metadata": {},
   "source": [
    "# After resampling the number of rows increased from 5791 to 5965"
   ]
  },
  {
   "cell_type": "code",
   "execution_count": 23,
   "id": "8f18d611",
   "metadata": {},
   "outputs": [
    {
     "data": {
      "text/plain": [
       "(5965, 1)"
      ]
     },
     "execution_count": 23,
     "metadata": {},
     "output_type": "execute_result"
    }
   ],
   "source": [
    "# ts shape after resampling\n",
    "ts.shape"
   ]
  },
  {
   "cell_type": "markdown",
   "id": "33d21d1c",
   "metadata": {},
   "source": [
    "# Datatype conversion from Pandas Data Frame to Pandas Series as it easier to analyse time series in pandas series compare to pandas dataframe."
   ]
  },
  {
   "cell_type": "code",
   "execution_count": 24,
   "id": "6c608737",
   "metadata": {},
   "outputs": [],
   "source": [
    "# convert data frame to series\n",
    "ts = ts[col]"
   ]
  },
  {
   "cell_type": "markdown",
   "id": "b577fe8d",
   "metadata": {},
   "source": [
    "# This is the plot of the Time Series it helps to understand whether there are any repeated patterns in the Time Series or not.\n",
    "\n",
    "If repeated patterns is seen on visualization then we could use Time Series Forecasting Algorithm like ARIMA to cpature this repetitve patterns and use that to forecast future values.\n",
    "\n",
    "From Graph it is clear there is repetitve pattern in AQI"
   ]
  },
  {
   "cell_type": "code",
   "execution_count": 25,
   "id": "0f7e0426",
   "metadata": {},
   "outputs": [
    {
     "data": {
      "text/plain": [
       "Text(0.5, 1.0, 'O3 AQI Time Series Trend')"
      ]
     },
     "execution_count": 25,
     "metadata": {},
     "output_type": "execute_result"
    },
    {
     "data": {
      "image/png": "[encoded data removed]",
      "text/plain": [
       "<Figure size 1296x576 with 1 Axes>"
      ]
     },
     "metadata": {},
     "output_type": "display_data"
    }
   ],
   "source": [
    "# visualize time series\n",
    "ts.plot(figsize=(18,8))\n",
    "plt.title(f'{col} Time Series Trend')"
   ]
  },
  {
   "cell_type": "markdown",
   "id": "f42b105e",
   "metadata": {},
   "source": [
    "# Model 1 - ARIMA"
   ]
  },
  {
   "cell_type": "markdown",
   "id": "76e002b9",
   "metadata": {},
   "source": [
    "Detailed explanation of ACF and PACF plot: https://online.stat.psu.edu/stat510/lesson/1/1.1\n"
   ]
  },
  {
   "cell_type": "markdown",
   "id": "99c4b3d3",
   "metadata": {},
   "source": [
    "ACF and PACF are standard Time Series Plots. IT will help us to find AR and MA components in the Time Series Plot.\n",
    "\n",
    "Detailed explanation of ACF and PACF plot is explained in the link.\n",
    "\n",
    "Basically it is the correlation of present value with past value.\n",
    "\n",
    "Generally there are only few signification lag value i.e. above the darker region which is like a confidence interval.\n",
    "\n",
    "But in our case we ACF and PACF did not reveal any clear pattern as most of the lag value are above the darker region so we do not know what AR and MA components would be suitable for our Model"
   ]
  },
  {
   "cell_type": "code",
   "execution_count": 26,
   "id": "66eaafac",
   "metadata": {},
   "outputs": [
    {
     "data": {
      "text/plain": [
       "Text(0, 0.5, 'Correlation')"
      ]
     },
     "execution_count": 26,
     "metadata": {},
     "output_type": "execute_result"
    },
    {
     "data": {
      "image/png": "[encoded data removed]",
      "text/plain": [
       "<Figure size 1080x360 with 1 Axes>"
      ]
     },
     "metadata": {},
     "output_type": "display_data"
    }
   ],
   "source": [
    "# plot Auto Corrleation\n",
    "# about ACF https://online.stat.psu.edu/stat510/lesson/1/1.1\n",
    "\n",
    "plt.rcParams['figure.figsize'] = (15,5)\n",
    "sgt.plot_acf(ts, zero=False)\n",
    "plt.title(f'{col} ACF',size=15)\n",
    "plt.xlabel('Lags',size=15)\n",
    "plt.ylabel('Correlation',size=15)"
   ]
  },
  {
   "cell_type": "code",
   "execution_count": 27,
   "id": "87c9fdce",
   "metadata": {},
   "outputs": [
    {
     "data": {
      "text/plain": [
       "Text(0, 0.5, 'Correlation')"
      ]
     },
     "execution_count": 27,
     "metadata": {},
     "output_type": "execute_result"
    },
    {
     "data": {
      "image/png": "[encoded data removed]",
      "text/plain": [
       "<Figure size 1080x360 with 1 Axes>"
      ]
     },
     "metadata": {},
     "output_type": "display_data"
    }
   ],
   "source": [
    "# plot Partial Autocorrrelation\n",
    "plt.rcParams['figure.figsize'] = (15,5)\n",
    "sgt.plot_pacf(ts, zero=False)\n",
    "plt.title(f'{col} PACF',size=15)\n",
    "plt.xlabel('Lags',size=15)\n",
    "plt.ylabel('Correlation',size=15)"
   ]
  },
  {
   "cell_type": "markdown",
   "id": "6718e01d",
   "metadata": {},
   "source": [
    "AR and MA compnents with seasonal effects are difficult to guess by looking at the ACF , PACF and Trend Plot. We will use Auto ARIMA Model which we will fit various model with different parameters and will find out the best model for this time series\n",
    "\n",
    "To evaluate how good our model we compare it with the Test dataset. this is the standrad parctice in Machine Learning Model where have Train dataset on which we train the model and then there is a test data on model accuracy is tested.\n",
    "\n",
    "For this time series we are using last 7 days value as test data and rest of the data is training dataset.\n",
    "\n",
    "There is no reason for selecting 7 days, we can select any number of days but we have to keep in the mind that as the number of days are increaed the forecasting error keeps on increasing so need to select accordingly\n",
    "\n",
    "we trained our model, then predict value for next 7 days and compare it with test dataset"
   ]
  },
  {
   "cell_type": "code",
   "execution_count": 28,
   "id": "07a6943a",
   "metadata": {},
   "outputs": [],
   "source": [
    "# split the data into train and test data\n",
    "# train data to train the model \n",
    "# test data to check the performance of the model on unseen data\n",
    "# we will use last 7 days for testing \n",
    "forcast_period = 7\n",
    "train = ts[:-7]\n",
    "test = ts[-7:]"
   ]
  },
  {
   "cell_type": "code",
   "execution_count": 29,
   "id": "15e41796",
   "metadata": {},
   "outputs": [
    {
     "name": "stdout",
     "output_type": "stream",
     "text": [
      "Train shape (5958,)\n",
      "Test shape (7,)\n"
     ]
    }
   ],
   "source": [
    "print(f\"Train shape {train.shape}\")\n",
    "print(f\"Test shape {test.shape}\")"
   ]
  },
  {
   "cell_type": "markdown",
   "id": "e75014c6",
   "metadata": {},
   "source": [
    "Checking last three value in Train dataset and first three value in Test dataset so to ensure Test data starts from the next date where Train date ends"
   ]
  },
  {
   "cell_type": "code",
   "execution_count": 30,
   "id": "b5af9e1d",
   "metadata": {},
   "outputs": [
    {
     "data": {
      "text/plain": [
       "date\n",
       "2016-04-21    45.0\n",
       "2016-04-22    39.0\n",
       "2016-04-23    37.0\n",
       "Freq: D, Name: O3 AQI, dtype: float64"
      ]
     },
     "execution_count": 30,
     "metadata": {},
     "output_type": "execute_result"
    }
   ],
   "source": [
    "# check last 3 rows of the train data\n",
    "train.tail(3)"
   ]
  },
  {
   "cell_type": "code",
   "execution_count": 31,
   "id": "c79138ef",
   "metadata": {},
   "outputs": [
    {
     "data": {
      "text/plain": [
       "date\n",
       "2016-04-24    46.0\n",
       "2016-04-25    48.0\n",
       "2016-04-26    51.0\n",
       "Freq: D, Name: O3 AQI, dtype: float64"
      ]
     },
     "execution_count": 31,
     "metadata": {},
     "output_type": "execute_result"
    }
   ],
   "source": [
    "# check first 3 rows of the train data\n",
    "test.head(3)"
   ]
  },
  {
   "cell_type": "markdown",
   "id": "02478449",
   "metadata": {},
   "source": [
    "In ARIMA model we would need specify the differencing Term i.e \"I\" component. This ADF Augmented Dickey Fuller Test is the standard way for checking what should be the value of \"I\". In our case it is zero"
   ]
  },
  {
   "cell_type": "code",
   "execution_count": 32,
   "id": "2e8f527f",
   "metadata": {},
   "outputs": [
    {
     "data": {
      "text/plain": [
       "0"
      ]
     },
     "execution_count": 32,
     "metadata": {},
     "output_type": "execute_result"
    }
   ],
   "source": [
    "# Estimate the number of differences using an ADF test:\n",
    "n_adf = ndiffs(train, test='adf')  # -> 0\n",
    "n_adf"
   ]
  },
  {
   "cell_type": "markdown",
   "id": "77ec72f7",
   "metadata": {},
   "source": [
    "In SARIMA model we would need specify the seasonal differencing Term component. This nsdiffs is way for checking what should be the value of seasonal differencing. In our case it is zero"
   ]
  },
  {
   "cell_type": "code",
   "execution_count": 33,
   "id": "4f8cd6c4",
   "metadata": {},
   "outputs": [
    {
     "data": {
      "text/plain": [
       "0"
      ]
     },
     "execution_count": 33,
     "metadata": {},
     "output_type": "execute_result"
    }
   ],
   "source": [
    "# estimate number of seasonal differences using a Canova-Hansen test\n",
    "# commonly requires knowledge of dataset\n",
    "D = nsdiffs(train, m=2,  max_D=12,)  \n",
    "D"
   ]
  },
  {
   "cell_type": "markdown",
   "id": "20261552",
   "metadata": {},
   "source": [
    "There is no standard way for finding out what parameters to choose and it is basically a Trail and error method.\n",
    "\n",
    "Auto Arima needs starting range and it automatically figure what should be the best parameter.\n",
    "\n",
    "For P = 1 to P=5 it will fit all the model and see which models minimizes AIC criterion and select that value.\n",
    "\n",
    "We dont know what is the best ARIMA model hence we are using Auto Arima which would fit model for the all the possible combination and find out what is the best ARIMA Model for our dataset.\n",
    "\n",
    "In our CASE the best model is ARIMA(1,0,1)(1,0,2)[12] intercept\n",
    "\n",
    "which has non seasonal arima compoents AR= 1 and MA=1 and season components of AR=1 and MA=1"
   ]
  },
  {
   "cell_type": "code",
   "execution_count": 34,
   "id": "ed3abd82",
   "metadata": {},
   "outputs": [
    {
     "name": "stdout",
     "output_type": "stream",
     "text": [
      "Performing stepwise search to minimize aic\n"
     ]
    },
    {
     "name": "stderr",
     "output_type": "stream",
     "text": [
      "C:\\Anaconda\\lib\\site-packages\\statsmodels\\base\\model.py:566: ConvergenceWarning: Maximum Likelihood optimization failed to converge. Check mle_retvals\n",
      "  warnings.warn(\"Maximum Likelihood optimization failed to \"\n"
     ]
    },
    {
     "name": "stdout",
     "output_type": "stream",
     "text": [
      " ARIMA(1,0,1)(1,0,1)[12] intercept   : AIC=48899.236, Time=12.88 sec\n",
      " ARIMA(0,0,0)(0,0,0)[12] intercept   : AIC=53343.561, Time=0.10 sec\n",
      " ARIMA(1,0,0)(1,0,0)[12] intercept   : AIC=48970.297, Time=3.42 sec\n",
      " ARIMA(0,0,1)(0,0,1)[12] intercept   : AIC=50217.559, Time=3.36 sec\n",
      " ARIMA(0,0,0)(0,0,0)[12]             : AIC=60837.365, Time=0.06 sec\n",
      " ARIMA(1,0,1)(0,0,1)[12] intercept   : AIC=48916.015, Time=4.74 sec\n",
      " ARIMA(1,0,1)(1,0,0)[12] intercept   : AIC=48915.664, Time=4.63 sec\n"
     ]
    },
    {
     "name": "stderr",
     "output_type": "stream",
     "text": [
      "C:\\Anaconda\\lib\\site-packages\\statsmodels\\base\\model.py:566: ConvergenceWarning: Maximum Likelihood optimization failed to converge. Check mle_retvals\n",
      "  warnings.warn(\"Maximum Likelihood optimization failed to \"\n"
     ]
    },
    {
     "name": "stdout",
     "output_type": "stream",
     "text": [
      " ARIMA(1,0,1)(2,0,1)[12] intercept   : AIC=48893.362, Time=27.43 sec\n",
      " ARIMA(1,0,1)(2,0,0)[12] intercept   : AIC=48903.517, Time=17.05 sec\n"
     ]
    },
    {
     "name": "stderr",
     "output_type": "stream",
     "text": [
      "C:\\Anaconda\\lib\\site-packages\\statsmodels\\base\\model.py:566: ConvergenceWarning: Maximum Likelihood optimization failed to converge. Check mle_retvals\n",
      "  warnings.warn(\"Maximum Likelihood optimization failed to \"\n"
     ]
    },
    {
     "name": "stdout",
     "output_type": "stream",
     "text": [
      " ARIMA(1,0,1)(2,0,2)[12] intercept   : AIC=48900.467, Time=31.15 sec\n"
     ]
    },
    {
     "name": "stderr",
     "output_type": "stream",
     "text": [
      "C:\\Anaconda\\lib\\site-packages\\statsmodels\\base\\model.py:566: ConvergenceWarning: Maximum Likelihood optimization failed to converge. Check mle_retvals\n",
      "  warnings.warn(\"Maximum Likelihood optimization failed to \"\n"
     ]
    },
    {
     "name": "stdout",
     "output_type": "stream",
     "text": [
      " ARIMA(1,0,1)(1,0,2)[12] intercept   : AIC=48893.022, Time=28.35 sec\n",
      " ARIMA(1,0,1)(0,0,2)[12] intercept   : AIC=48905.862, Time=11.07 sec\n"
     ]
    },
    {
     "name": "stderr",
     "output_type": "stream",
     "text": [
      "C:\\Anaconda\\lib\\site-packages\\statsmodels\\base\\model.py:566: ConvergenceWarning: Maximum Likelihood optimization failed to converge. Check mle_retvals\n",
      "  warnings.warn(\"Maximum Likelihood optimization failed to \"\n"
     ]
    },
    {
     "name": "stdout",
     "output_type": "stream",
     "text": [
      " ARIMA(0,0,1)(1,0,2)[12] intercept   : AIC=49718.886, Time=26.93 sec\n",
      " ARIMA(1,0,0)(1,0,2)[12] intercept   : AIC=48925.244, Time=22.79 sec\n"
     ]
    },
    {
     "name": "stderr",
     "output_type": "stream",
     "text": [
      "C:\\Anaconda\\lib\\site-packages\\statsmodels\\base\\model.py:566: ConvergenceWarning: Maximum Likelihood optimization failed to converge. Check mle_retvals\n",
      "  warnings.warn(\"Maximum Likelihood optimization failed to \"\n"
     ]
    },
    {
     "name": "stdout",
     "output_type": "stream",
     "text": [
      " ARIMA(2,0,1)(1,0,2)[12] intercept   : AIC=48907.622, Time=34.35 sec\n"
     ]
    },
    {
     "name": "stderr",
     "output_type": "stream",
     "text": [
      "C:\\Anaconda\\lib\\site-packages\\statsmodels\\base\\model.py:566: ConvergenceWarning: Maximum Likelihood optimization failed to converge. Check mle_retvals\n",
      "  warnings.warn(\"Maximum Likelihood optimization failed to \"\n"
     ]
    },
    {
     "name": "stdout",
     "output_type": "stream",
     "text": [
      " ARIMA(1,0,2)(1,0,2)[12] intercept   : AIC=inf, Time=36.98 sec\n"
     ]
    },
    {
     "name": "stderr",
     "output_type": "stream",
     "text": [
      "C:\\Anaconda\\lib\\site-packages\\statsmodels\\base\\model.py:566: ConvergenceWarning: Maximum Likelihood optimization failed to converge. Check mle_retvals\n",
      "  warnings.warn(\"Maximum Likelihood optimization failed to \"\n"
     ]
    },
    {
     "name": "stdout",
     "output_type": "stream",
     "text": [
      " ARIMA(0,0,0)(1,0,2)[12] intercept   : AIC=51534.960, Time=30.69 sec\n"
     ]
    },
    {
     "name": "stderr",
     "output_type": "stream",
     "text": [
      "C:\\Anaconda\\lib\\site-packages\\statsmodels\\base\\model.py:566: ConvergenceWarning: Maximum Likelihood optimization failed to converge. Check mle_retvals\n",
      "  warnings.warn(\"Maximum Likelihood optimization failed to \"\n"
     ]
    },
    {
     "name": "stdout",
     "output_type": "stream",
     "text": [
      " ARIMA(0,0,2)(1,0,2)[12] intercept   : AIC=49315.101, Time=36.79 sec\n"
     ]
    },
    {
     "name": "stderr",
     "output_type": "stream",
     "text": [
      "C:\\Anaconda\\lib\\site-packages\\statsmodels\\base\\model.py:566: ConvergenceWarning: Maximum Likelihood optimization failed to converge. Check mle_retvals\n",
      "  warnings.warn(\"Maximum Likelihood optimization failed to \"\n"
     ]
    },
    {
     "name": "stdout",
     "output_type": "stream",
     "text": [
      " ARIMA(2,0,0)(1,0,2)[12] intercept   : AIC=48903.002, Time=30.24 sec\n"
     ]
    },
    {
     "name": "stderr",
     "output_type": "stream",
     "text": [
      "C:\\Anaconda\\lib\\site-packages\\statsmodels\\base\\model.py:566: ConvergenceWarning: Maximum Likelihood optimization failed to converge. Check mle_retvals\n",
      "  warnings.warn(\"Maximum Likelihood optimization failed to \"\n"
     ]
    },
    {
     "name": "stdout",
     "output_type": "stream",
     "text": [
      " ARIMA(2,0,2)(1,0,2)[12] intercept   : AIC=inf, Time=40.58 sec\n",
      " ARIMA(1,0,1)(1,0,2)[12]             : AIC=inf, Time=23.30 sec\n",
      "\n",
      "Best model:  ARIMA(1,0,1)(1,0,2)[12] intercept\n",
      "Total fit time: 426.970 seconds\n"
     ]
    }
   ],
   "source": [
    "# fit auto arima model\n",
    "# read about params here https://alkaline-ml.com/pmdarima/modules/generated/pmdarima.arima.auto_arima.html\n",
    "model = pm.auto_arima( train,        \n",
    "                       start_p=1,    \n",
    "                       start_q=1,    \n",
    "                       max_p=5,   \n",
    "                       max_q=5,     \n",
    "                       m=12,        \n",
    "                       seasonal=True, \n",
    "                       d=0,          \n",
    "                       D=0, \n",
    "                       trace=True,\n",
    "                       error_action='ignore', \n",
    "                       suppress_warnings=False, \n",
    "                       stepwise=True,\n",
    "                       n_jobs = 1)"
   ]
  },
  {
   "cell_type": "code",
   "execution_count": null,
   "id": "13493615",
   "metadata": {},
   "outputs": [],
   "source": []
  }
 ],
 "metadata": {
  "kernelspec": {
   "display_name": "Python 3",
   "language": "python",
   "name": "python3"
  },
  "language_info": {
   "codemirror_mode": {
    "name": "ipython",
    "version": 3
   },
   "file_extension": ".py",
   "mimetype": "text/x-python",
   "name": "python",
   "nbconvert_exporter": "python",
   "pygments_lexer": "ipython3",
   "version": "3.8.8"
  }
 },
 "nbformat": 4,
 "nbformat_minor": 5
}
