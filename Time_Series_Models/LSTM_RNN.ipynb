{
  "nbformat": 4,
  "nbformat_minor": 5,
  "metadata": {
    "kernelspec": {
      "display_name": "Python 3",
      "language": "python",
      "name": "python3"
    },
    "language_info": {
      "codemirror_mode": {
        "name": "ipython",
        "version": 3
      },
      "file_extension": ".py",
      "mimetype": "text/x-python",
      "name": "python",
      "nbconvert_exporter": "python",
      "pygments_lexer": "ipython3",
      "version": "3.8.8"
    },
    "colab": {
      "name": "LSTM_RNN.ipynb",
      "provenance": [],
      "collapsed_sections": [],
      "include_colab_link": true
    }
  },
  "cells": [
    {
      "cell_type": "markdown",
      "metadata": {
        "id": "view-in-github",
        "colab_type": "text"
      },
      "source": [
        "<a href=\"https://colab.research.google.com/github/Data-for-Good-by-UF/AIR/blob/main/LSTM_RNN.ipynb\" target=\"_parent\"><img src=\"https://colab.research.google.com/assets/colab-badge.svg\" alt=\"Open In Colab\"/></a>"
      ]
    },
    {
      "cell_type": "code",
      "metadata": {
        "colab": {
          "base_uri": "https://localhost:8080/"
        },
        "id": "31951b40",
        "outputId": "6e0bec77-f716-492d-8833-fe9140af2c4d"
      },
      "source": [
        "# load libraries\n",
        "# Author: Yuko Matsumoto\n",
        "# Title: LSTM_RNN\n",
        "# Date: July 7, 2021\n",
        "\n",
        "import pandas as pd\n",
        "import numpy as np\n",
        "import matplotlib.pyplot as plt\n",
        "import seaborn as sns\n",
        "sns.set()\n",
        "pd.options.display.max_columns=200\n",
        "\n",
        "from statsmodels.tsa.stattools import adfuller\n",
        "import statsmodels.graphics.tsaplots as sgt\n",
        "from statsmodels.tsa.seasonal import seasonal_decompose\n",
        "import statsmodels.api as sm\n",
        "\n",
        "! pip install pmdarima\n",
        "import pmdarima as pm\n",
        "from pmdarima.arima.stationarity import ADFTest\n",
        "from pmdarima.arima.utils import ndiffs\n",
        "from pmdarima.arima.utils import nsdiffs\n",
        "\n",
        "# holt winters \n",
        "# single exponential smoothing\n",
        "from statsmodels.tsa.holtwinters import SimpleExpSmoothing   \n",
        "# double and triple exponential smoothing\n",
        "from statsmodels.tsa.holtwinters import ExponentialSmoothing"
      ],
      "id": "31951b40",
      "execution_count": 26,
      "outputs": [
        {
          "output_type": "stream",
          "text": [
            "Requirement already satisfied: pmdarima in /usr/local/lib/python3.7/dist-packages (1.8.2)\n",
            "Requirement already satisfied: pandas>=0.19 in /usr/local/lib/python3.7/dist-packages (from pmdarima) (1.1.5)\n",
            "Requirement already satisfied: scipy>=1.3.2 in /usr/local/lib/python3.7/dist-packages (from pmdarima) (1.4.1)\n",
            "Requirement already satisfied: Cython!=0.29.18,>=0.29 in /usr/local/lib/python3.7/dist-packages (from pmdarima) (0.29.23)\n",
            "Requirement already satisfied: joblib>=0.11 in /usr/local/lib/python3.7/dist-packages (from pmdarima) (1.0.1)\n",
            "Requirement already satisfied: statsmodels!=0.12.0,>=0.11 in /usr/local/lib/python3.7/dist-packages (from pmdarima) (0.12.2)\n",
            "Requirement already satisfied: urllib3 in /usr/local/lib/python3.7/dist-packages (from pmdarima) (1.24.3)\n",
            "Requirement already satisfied: numpy~=1.19.0 in /usr/local/lib/python3.7/dist-packages (from pmdarima) (1.19.5)\n",
            "Requirement already satisfied: scikit-learn>=0.22 in /usr/local/lib/python3.7/dist-packages (from pmdarima) (0.22.2.post1)\n",
            "Requirement already satisfied: setuptools!=50.0.0,>=38.6.0 in /usr/local/lib/python3.7/dist-packages (from pmdarima) (57.0.0)\n",
            "Requirement already satisfied: pytz>=2017.2 in /usr/local/lib/python3.7/dist-packages (from pandas>=0.19->pmdarima) (2018.9)\n",
            "Requirement already satisfied: python-dateutil>=2.7.3 in /usr/local/lib/python3.7/dist-packages (from pandas>=0.19->pmdarima) (2.8.1)\n",
            "Requirement already satisfied: patsy>=0.5 in /usr/local/lib/python3.7/dist-packages (from statsmodels!=0.12.0,>=0.11->pmdarima) (0.5.1)\n",
            "Requirement already satisfied: six>=1.5 in /usr/local/lib/python3.7/dist-packages (from python-dateutil>=2.7.3->pandas>=0.19->pmdarima) (1.15.0)\n"
          ],
          "name": "stdout"
        }
      ]
    },
    {
      "cell_type": "code",
      "metadata": {
        "colab": {
          "base_uri": "https://localhost:8080/",
          "height": 688
        },
        "id": "cae8bb6d",
        "outputId": "395f46e4-3de0-4970-b93c-255ddc1ab950"
      },
      "source": [
        "# file path\n",
        "read_data = \"pollution_us_2000_2016.csv\"\n",
        "\n",
        "# read the dataset\n",
        "df = pd.read_csv(read_data)\n",
        "\n",
        "# drop the first column as it indicate just row numbers\n",
        "df.drop(\"Unnamed: 0\",axis=1,inplace=True)\n",
        "df.head()"
      ],
      "id": "cae8bb6d",
      "execution_count": 27,
      "outputs": [
        {
          "output_type": "execute_result",
          "data": {
            "text/html": [
              "<div>\n",
              "<style scoped>\n",
              "    .dataframe tbody tr th:only-of-type {\n",
              "        vertical-align: middle;\n",
              "    }\n",
              "\n",
              "    .dataframe tbody tr th {\n",
              "        vertical-align: top;\n",
              "    }\n",
              "\n",
              "    .dataframe thead th {\n",
              "        text-align: right;\n",
              "    }\n",
              "</style>\n",
              "<table border=\"1\" class=\"dataframe\">\n",
              "  <thead>\n",
              "    <tr style=\"text-align: right;\">\n",
              "      <th></th>\n",
              "      <th>State Code</th>\n",
              "      <th>County Code</th>\n",
              "      <th>Site Num</th>\n",
              "      <th>Address</th>\n",
              "      <th>State</th>\n",
              "      <th>County</th>\n",
              "      <th>City</th>\n",
              "      <th>Date Local</th>\n",
              "      <th>NO2 Units</th>\n",
              "      <th>NO2 Mean</th>\n",
              "      <th>NO2 1st Max Value</th>\n",
              "      <th>NO2 1st Max Hour</th>\n",
              "      <th>NO2 AQI</th>\n",
              "      <th>O3 Units</th>\n",
              "      <th>O3 Mean</th>\n",
              "      <th>O3 1st Max Value</th>\n",
              "      <th>O3 1st Max Hour</th>\n",
              "      <th>O3 AQI</th>\n",
              "      <th>SO2 Units</th>\n",
              "      <th>SO2 Mean</th>\n",
              "      <th>SO2 1st Max Value</th>\n",
              "      <th>SO2 1st Max Hour</th>\n",
              "      <th>SO2 AQI</th>\n",
              "      <th>CO Units</th>\n",
              "      <th>CO Mean</th>\n",
              "      <th>CO 1st Max Value</th>\n",
              "      <th>CO 1st Max Hour</th>\n",
              "      <th>CO AQI</th>\n",
              "    </tr>\n",
              "  </thead>\n",
              "  <tbody>\n",
              "    <tr>\n",
              "      <th>0</th>\n",
              "      <td>4</td>\n",
              "      <td>13</td>\n",
              "      <td>3002</td>\n",
              "      <td>1645 E ROOSEVELT ST-CENTRAL PHOENIX STN</td>\n",
              "      <td>Arizona</td>\n",
              "      <td>Maricopa</td>\n",
              "      <td>Phoenix</td>\n",
              "      <td>2000-01-01</td>\n",
              "      <td>Parts per billion</td>\n",
              "      <td>19.041667</td>\n",
              "      <td>49.0</td>\n",
              "      <td>19</td>\n",
              "      <td>46</td>\n",
              "      <td>Parts per million</td>\n",
              "      <td>0.022500</td>\n",
              "      <td>0.040</td>\n",
              "      <td>10</td>\n",
              "      <td>34</td>\n",
              "      <td>Parts per billion</td>\n",
              "      <td>3.000000</td>\n",
              "      <td>9.0</td>\n",
              "      <td>21</td>\n",
              "      <td>13.0</td>\n",
              "      <td>Parts per million</td>\n",
              "      <td>1.145833</td>\n",
              "      <td>4.2</td>\n",
              "      <td>21</td>\n",
              "      <td>NaN</td>\n",
              "    </tr>\n",
              "    <tr>\n",
              "      <th>1</th>\n",
              "      <td>4</td>\n",
              "      <td>13</td>\n",
              "      <td>3002</td>\n",
              "      <td>1645 E ROOSEVELT ST-CENTRAL PHOENIX STN</td>\n",
              "      <td>Arizona</td>\n",
              "      <td>Maricopa</td>\n",
              "      <td>Phoenix</td>\n",
              "      <td>2000-01-01</td>\n",
              "      <td>Parts per billion</td>\n",
              "      <td>19.041667</td>\n",
              "      <td>49.0</td>\n",
              "      <td>19</td>\n",
              "      <td>46</td>\n",
              "      <td>Parts per million</td>\n",
              "      <td>0.022500</td>\n",
              "      <td>0.040</td>\n",
              "      <td>10</td>\n",
              "      <td>34</td>\n",
              "      <td>Parts per billion</td>\n",
              "      <td>3.000000</td>\n",
              "      <td>9.0</td>\n",
              "      <td>21</td>\n",
              "      <td>13.0</td>\n",
              "      <td>Parts per million</td>\n",
              "      <td>0.878947</td>\n",
              "      <td>2.2</td>\n",
              "      <td>23</td>\n",
              "      <td>25.0</td>\n",
              "    </tr>\n",
              "    <tr>\n",
              "      <th>2</th>\n",
              "      <td>4</td>\n",
              "      <td>13</td>\n",
              "      <td>3002</td>\n",
              "      <td>1645 E ROOSEVELT ST-CENTRAL PHOENIX STN</td>\n",
              "      <td>Arizona</td>\n",
              "      <td>Maricopa</td>\n",
              "      <td>Phoenix</td>\n",
              "      <td>2000-01-01</td>\n",
              "      <td>Parts per billion</td>\n",
              "      <td>19.041667</td>\n",
              "      <td>49.0</td>\n",
              "      <td>19</td>\n",
              "      <td>46</td>\n",
              "      <td>Parts per million</td>\n",
              "      <td>0.022500</td>\n",
              "      <td>0.040</td>\n",
              "      <td>10</td>\n",
              "      <td>34</td>\n",
              "      <td>Parts per billion</td>\n",
              "      <td>2.975000</td>\n",
              "      <td>6.6</td>\n",
              "      <td>23</td>\n",
              "      <td>NaN</td>\n",
              "      <td>Parts per million</td>\n",
              "      <td>1.145833</td>\n",
              "      <td>4.2</td>\n",
              "      <td>21</td>\n",
              "      <td>NaN</td>\n",
              "    </tr>\n",
              "    <tr>\n",
              "      <th>3</th>\n",
              "      <td>4</td>\n",
              "      <td>13</td>\n",
              "      <td>3002</td>\n",
              "      <td>1645 E ROOSEVELT ST-CENTRAL PHOENIX STN</td>\n",
              "      <td>Arizona</td>\n",
              "      <td>Maricopa</td>\n",
              "      <td>Phoenix</td>\n",
              "      <td>2000-01-01</td>\n",
              "      <td>Parts per billion</td>\n",
              "      <td>19.041667</td>\n",
              "      <td>49.0</td>\n",
              "      <td>19</td>\n",
              "      <td>46</td>\n",
              "      <td>Parts per million</td>\n",
              "      <td>0.022500</td>\n",
              "      <td>0.040</td>\n",
              "      <td>10</td>\n",
              "      <td>34</td>\n",
              "      <td>Parts per billion</td>\n",
              "      <td>2.975000</td>\n",
              "      <td>6.6</td>\n",
              "      <td>23</td>\n",
              "      <td>NaN</td>\n",
              "      <td>Parts per million</td>\n",
              "      <td>0.878947</td>\n",
              "      <td>2.2</td>\n",
              "      <td>23</td>\n",
              "      <td>25.0</td>\n",
              "    </tr>\n",
              "    <tr>\n",
              "      <th>4</th>\n",
              "      <td>4</td>\n",
              "      <td>13</td>\n",
              "      <td>3002</td>\n",
              "      <td>1645 E ROOSEVELT ST-CENTRAL PHOENIX STN</td>\n",
              "      <td>Arizona</td>\n",
              "      <td>Maricopa</td>\n",
              "      <td>Phoenix</td>\n",
              "      <td>2000-01-02</td>\n",
              "      <td>Parts per billion</td>\n",
              "      <td>22.958333</td>\n",
              "      <td>36.0</td>\n",
              "      <td>19</td>\n",
              "      <td>34</td>\n",
              "      <td>Parts per million</td>\n",
              "      <td>0.013375</td>\n",
              "      <td>0.032</td>\n",
              "      <td>10</td>\n",
              "      <td>27</td>\n",
              "      <td>Parts per billion</td>\n",
              "      <td>1.958333</td>\n",
              "      <td>3.0</td>\n",
              "      <td>22</td>\n",
              "      <td>4.0</td>\n",
              "      <td>Parts per million</td>\n",
              "      <td>0.850000</td>\n",
              "      <td>1.6</td>\n",
              "      <td>23</td>\n",
              "      <td>NaN</td>\n",
              "    </tr>\n",
              "  </tbody>\n",
              "</table>\n",
              "</div>"
            ],
            "text/plain": [
              "   State Code  County Code  Site Num                                  Address  \\\n",
              "0           4           13      3002  1645 E ROOSEVELT ST-CENTRAL PHOENIX STN   \n",
              "1           4           13      3002  1645 E ROOSEVELT ST-CENTRAL PHOENIX STN   \n",
              "2           4           13      3002  1645 E ROOSEVELT ST-CENTRAL PHOENIX STN   \n",
              "3           4           13      3002  1645 E ROOSEVELT ST-CENTRAL PHOENIX STN   \n",
              "4           4           13      3002  1645 E ROOSEVELT ST-CENTRAL PHOENIX STN   \n",
              "\n",
              "     State    County     City  Date Local          NO2 Units   NO2 Mean  \\\n",
              "0  Arizona  Maricopa  Phoenix  2000-01-01  Parts per billion  19.041667   \n",
              "1  Arizona  Maricopa  Phoenix  2000-01-01  Parts per billion  19.041667   \n",
              "2  Arizona  Maricopa  Phoenix  2000-01-01  Parts per billion  19.041667   \n",
              "3  Arizona  Maricopa  Phoenix  2000-01-01  Parts per billion  19.041667   \n",
              "4  Arizona  Maricopa  Phoenix  2000-01-02  Parts per billion  22.958333   \n",
              "\n",
              "   NO2 1st Max Value  NO2 1st Max Hour  NO2 AQI           O3 Units   O3 Mean  \\\n",
              "0               49.0                19       46  Parts per million  0.022500   \n",
              "1               49.0                19       46  Parts per million  0.022500   \n",
              "2               49.0                19       46  Parts per million  0.022500   \n",
              "3               49.0                19       46  Parts per million  0.022500   \n",
              "4               36.0                19       34  Parts per million  0.013375   \n",
              "\n",
              "   O3 1st Max Value  O3 1st Max Hour  O3 AQI          SO2 Units  SO2 Mean  \\\n",
              "0             0.040               10      34  Parts per billion  3.000000   \n",
              "1             0.040               10      34  Parts per billion  3.000000   \n",
              "2             0.040               10      34  Parts per billion  2.975000   \n",
              "3             0.040               10      34  Parts per billion  2.975000   \n",
              "4             0.032               10      27  Parts per billion  1.958333   \n",
              "\n",
              "   SO2 1st Max Value  SO2 1st Max Hour  SO2 AQI           CO Units   CO Mean  \\\n",
              "0                9.0                21     13.0  Parts per million  1.145833   \n",
              "1                9.0                21     13.0  Parts per million  0.878947   \n",
              "2                6.6                23      NaN  Parts per million  1.145833   \n",
              "3                6.6                23      NaN  Parts per million  0.878947   \n",
              "4                3.0                22      4.0  Parts per million  0.850000   \n",
              "\n",
              "   CO 1st Max Value  CO 1st Max Hour  CO AQI  \n",
              "0               4.2               21     NaN  \n",
              "1               2.2               23    25.0  \n",
              "2               4.2               21     NaN  \n",
              "3               2.2               23    25.0  \n",
              "4               1.6               23     NaN  "
            ]
          },
          "metadata": {
            "tags": []
          },
          "execution_count": 27
        }
      ]
    },
    {
      "cell_type": "code",
      "metadata": {
        "id": "a7e1ba0c"
      },
      "source": [
        "# drop duplicate rows\n",
        "df.drop_duplicates(inplace=True)"
      ],
      "id": "a7e1ba0c",
      "execution_count": 28,
      "outputs": []
    },
    {
      "cell_type": "code",
      "metadata": {
        "colab": {
          "base_uri": "https://localhost:8080/"
        },
        "id": "41fd3aaa",
        "outputId": "13c1767d-2209-438b-88cd-7f7c6562fc1c"
      },
      "source": [
        "df.isna().sum()"
      ],
      "id": "41fd3aaa",
      "execution_count": 29,
      "outputs": [
        {
          "output_type": "execute_result",
          "data": {
            "text/plain": [
              "State Code                0\n",
              "County Code               0\n",
              "Site Num                  0\n",
              "Address                   0\n",
              "State                     0\n",
              "County                    0\n",
              "City                      0\n",
              "Date Local                0\n",
              "NO2 Units                 0\n",
              "NO2 Mean                  0\n",
              "NO2 1st Max Value         0\n",
              "NO2 1st Max Hour          0\n",
              "NO2 AQI                   0\n",
              "O3 Units                  0\n",
              "O3 Mean                   0\n",
              "O3 1st Max Value          0\n",
              "O3 1st Max Hour           0\n",
              "O3 AQI                    0\n",
              "SO2 Units                 0\n",
              "SO2 Mean                  0\n",
              "SO2 1st Max Value         0\n",
              "SO2 1st Max Hour          0\n",
              "SO2 AQI              870344\n",
              "CO Units                  0\n",
              "CO Mean                   0\n",
              "CO 1st Max Value          0\n",
              "CO 1st Max Hour           0\n",
              "CO AQI               870988\n",
              "dtype: int64"
            ]
          },
          "metadata": {
            "tags": []
          },
          "execution_count": 29
        }
      ]
    },
    {
      "cell_type": "code",
      "metadata": {
        "colab": {
          "base_uri": "https://localhost:8080/"
        },
        "id": "08c47feb",
        "outputId": "6c3c386e-e557-4a55-d1e1-1eb14be4dae7"
      },
      "source": [
        "# convert Date local to python date and time \n",
        "df['date'] =  pd.to_datetime(df['Date Local'])\n",
        "\n",
        "# check descriptive statistics for date\n",
        "df['date'].describe(datetime_is_numeric=True)"
      ],
      "id": "08c47feb",
      "execution_count": 30,
      "outputs": [
        {
          "output_type": "execute_result",
          "data": {
            "text/plain": [
              "count                          1741629\n",
              "mean     2008-10-12 22:57:38.410464768\n",
              "min                2000-01-01 00:00:00\n",
              "25%                2004-11-20 00:00:00\n",
              "50%                2009-01-31 00:00:00\n",
              "75%                2012-11-07 00:00:00\n",
              "max                2016-05-31 00:00:00\n",
              "Name: date, dtype: object"
            ]
          },
          "metadata": {
            "tags": []
          },
          "execution_count": 30
        }
      ]
    },
    {
      "cell_type": "code",
      "metadata": {
        "colab": {
          "base_uri": "https://localhost:8080/",
          "height": 171
        },
        "id": "0a71c19b",
        "outputId": "2d8cb274-1312-4b8f-8e4b-a897ddd55733"
      },
      "source": [
        "# compute mean AQI for each citiy for each date\n",
        "mean_aqi = df.groupby(['City','date'])[['NO2 AQI','O3 AQI','SO2 AQI','CO AQI']].mean()\n",
        "\n",
        "# check new data frame\n",
        "mean_aqi.head(3)"
      ],
      "id": "0a71c19b",
      "execution_count": 31,
      "outputs": [
        {
          "output_type": "execute_result",
          "data": {
            "text/html": [
              "<div>\n",
              "<style scoped>\n",
              "    .dataframe tbody tr th:only-of-type {\n",
              "        vertical-align: middle;\n",
              "    }\n",
              "\n",
              "    .dataframe tbody tr th {\n",
              "        vertical-align: top;\n",
              "    }\n",
              "\n",
              "    .dataframe thead th {\n",
              "        text-align: right;\n",
              "    }\n",
              "</style>\n",
              "<table border=\"1\" class=\"dataframe\">\n",
              "  <thead>\n",
              "    <tr style=\"text-align: right;\">\n",
              "      <th></th>\n",
              "      <th></th>\n",
              "      <th>NO2 AQI</th>\n",
              "      <th>O3 AQI</th>\n",
              "      <th>SO2 AQI</th>\n",
              "      <th>CO AQI</th>\n",
              "    </tr>\n",
              "    <tr>\n",
              "      <th>City</th>\n",
              "      <th>date</th>\n",
              "      <th></th>\n",
              "      <th></th>\n",
              "      <th></th>\n",
              "      <th></th>\n",
              "    </tr>\n",
              "  </thead>\n",
              "  <tbody>\n",
              "    <tr>\n",
              "      <th rowspan=\"3\" valign=\"top\">Albuquerque</th>\n",
              "      <th>2011-01-01</th>\n",
              "      <td>19.0</td>\n",
              "      <td>30.0</td>\n",
              "      <td>0.0</td>\n",
              "      <td>2.0</td>\n",
              "    </tr>\n",
              "    <tr>\n",
              "      <th>2011-01-02</th>\n",
              "      <td>38.0</td>\n",
              "      <td>28.0</td>\n",
              "      <td>1.0</td>\n",
              "      <td>7.0</td>\n",
              "    </tr>\n",
              "    <tr>\n",
              "      <th>2011-01-03</th>\n",
              "      <td>44.0</td>\n",
              "      <td>14.0</td>\n",
              "      <td>3.0</td>\n",
              "      <td>13.0</td>\n",
              "    </tr>\n",
              "  </tbody>\n",
              "</table>\n",
              "</div>"
            ],
            "text/plain": [
              "                        NO2 AQI  O3 AQI  SO2 AQI  CO AQI\n",
              "City        date                                        \n",
              "Albuquerque 2011-01-01     19.0    30.0      0.0     2.0\n",
              "            2011-01-02     38.0    28.0      1.0     7.0\n",
              "            2011-01-03     44.0    14.0      3.0    13.0"
            ]
          },
          "metadata": {
            "tags": []
          },
          "execution_count": 31
        }
      ]
    },
    {
      "cell_type": "code",
      "metadata": {
        "id": "6e0db51a"
      },
      "source": [
        "# reset index mean_aqi \n",
        "mean_aqi = mean_aqi.reset_index()"
      ],
      "id": "6e0db51a",
      "execution_count": 32,
      "outputs": []
    },
    {
      "cell_type": "code",
      "metadata": {
        "id": "eff4b80d"
      },
      "source": [
        "# select one single city for analysis and for developing proof of concepts\n",
        "city = 'Washington'\n",
        "\n",
        "# select one column for analysis and for developing proof of concepts\n",
        "col = 'O3 AQI'"
      ],
      "id": "eff4b80d",
      "execution_count": 33,
      "outputs": []
    },
    {
      "cell_type": "code",
      "metadata": {
        "colab": {
          "base_uri": "https://localhost:8080/",
          "height": 141
        },
        "id": "43cfa581",
        "outputId": "b9f02621-b66d-49ab-8583-5f0514964b53"
      },
      "source": [
        "# create subset of dataset to include only city and column selected for analysis\n",
        "ts = mean_aqi.loc[mean_aqi['City'] == 'Washington',['date',col]]\n",
        "\n",
        "# check data\n",
        "ts.head(3)"
      ],
      "id": "43cfa581",
      "execution_count": 34,
      "outputs": [
        {
          "output_type": "execute_result",
          "data": {
            "text/html": [
              "<div>\n",
              "<style scoped>\n",
              "    .dataframe tbody tr th:only-of-type {\n",
              "        vertical-align: middle;\n",
              "    }\n",
              "\n",
              "    .dataframe tbody tr th {\n",
              "        vertical-align: top;\n",
              "    }\n",
              "\n",
              "    .dataframe thead th {\n",
              "        text-align: right;\n",
              "    }\n",
              "</style>\n",
              "<table border=\"1\" class=\"dataframe\">\n",
              "  <thead>\n",
              "    <tr style=\"text-align: right;\">\n",
              "      <th></th>\n",
              "      <th>date</th>\n",
              "      <th>O3 AQI</th>\n",
              "    </tr>\n",
              "  </thead>\n",
              "  <tbody>\n",
              "    <tr>\n",
              "      <th>335183</th>\n",
              "      <td>2000-01-01</td>\n",
              "      <td>12.0</td>\n",
              "    </tr>\n",
              "    <tr>\n",
              "      <th>335184</th>\n",
              "      <td>2000-01-02</td>\n",
              "      <td>25.0</td>\n",
              "    </tr>\n",
              "    <tr>\n",
              "      <th>335185</th>\n",
              "      <td>2000-01-03</td>\n",
              "      <td>22.0</td>\n",
              "    </tr>\n",
              "  </tbody>\n",
              "</table>\n",
              "</div>"
            ],
            "text/plain": [
              "             date  O3 AQI\n",
              "335183 2000-01-01    12.0\n",
              "335184 2000-01-02    25.0\n",
              "335185 2000-01-03    22.0"
            ]
          },
          "metadata": {
            "tags": []
          },
          "execution_count": 34
        }
      ]
    },
    {
      "cell_type": "code",
      "metadata": {
        "colab": {
          "base_uri": "https://localhost:8080/",
          "height": 171
        },
        "id": "9ab69fc2",
        "outputId": "29f97165-0956-45ba-96e9-253b84d1fdc2"
      },
      "source": [
        "# create time series from data frame\n",
        "ts = ts.set_index('date')\n",
        "\n",
        "# check data\n",
        "ts.head(3)"
      ],
      "id": "9ab69fc2",
      "execution_count": 35,
      "outputs": [
        {
          "output_type": "execute_result",
          "data": {
            "text/html": [
              "<div>\n",
              "<style scoped>\n",
              "    .dataframe tbody tr th:only-of-type {\n",
              "        vertical-align: middle;\n",
              "    }\n",
              "\n",
              "    .dataframe tbody tr th {\n",
              "        vertical-align: top;\n",
              "    }\n",
              "\n",
              "    .dataframe thead th {\n",
              "        text-align: right;\n",
              "    }\n",
              "</style>\n",
              "<table border=\"1\" class=\"dataframe\">\n",
              "  <thead>\n",
              "    <tr style=\"text-align: right;\">\n",
              "      <th></th>\n",
              "      <th>O3 AQI</th>\n",
              "    </tr>\n",
              "    <tr>\n",
              "      <th>date</th>\n",
              "      <th></th>\n",
              "    </tr>\n",
              "  </thead>\n",
              "  <tbody>\n",
              "    <tr>\n",
              "      <th>2000-01-01</th>\n",
              "      <td>12.0</td>\n",
              "    </tr>\n",
              "    <tr>\n",
              "      <th>2000-01-02</th>\n",
              "      <td>25.0</td>\n",
              "    </tr>\n",
              "    <tr>\n",
              "      <th>2000-01-03</th>\n",
              "      <td>22.0</td>\n",
              "    </tr>\n",
              "  </tbody>\n",
              "</table>\n",
              "</div>"
            ],
            "text/plain": [
              "            O3 AQI\n",
              "date              \n",
              "2000-01-01    12.0\n",
              "2000-01-02    25.0\n",
              "2000-01-03    22.0"
            ]
          },
          "metadata": {
            "tags": []
          },
          "execution_count": 35
        }
      ]
    },
    {
      "cell_type": "code",
      "metadata": {
        "colab": {
          "base_uri": "https://localhost:8080/",
          "height": 171
        },
        "id": "db29384e",
        "outputId": "86d3b60a-464c-4715-de22-d31cda24eadb"
      },
      "source": [
        "# resample time series to Daily Frequency\n",
        "# resample ensures that all dates from begining to end of the start series are present\n",
        "# use ffill  forward fill to handle missing valye filling the missing value from the previous day\n",
        "ts = ts.resample('D').mean().ffill()\n",
        "ts.head(3)"
      ],
      "id": "db29384e",
      "execution_count": 36,
      "outputs": [
        {
          "output_type": "execute_result",
          "data": {
            "text/html": [
              "<div>\n",
              "<style scoped>\n",
              "    .dataframe tbody tr th:only-of-type {\n",
              "        vertical-align: middle;\n",
              "    }\n",
              "\n",
              "    .dataframe tbody tr th {\n",
              "        vertical-align: top;\n",
              "    }\n",
              "\n",
              "    .dataframe thead th {\n",
              "        text-align: right;\n",
              "    }\n",
              "</style>\n",
              "<table border=\"1\" class=\"dataframe\">\n",
              "  <thead>\n",
              "    <tr style=\"text-align: right;\">\n",
              "      <th></th>\n",
              "      <th>O3 AQI</th>\n",
              "    </tr>\n",
              "    <tr>\n",
              "      <th>date</th>\n",
              "      <th></th>\n",
              "    </tr>\n",
              "  </thead>\n",
              "  <tbody>\n",
              "    <tr>\n",
              "      <th>2000-01-01</th>\n",
              "      <td>12.0</td>\n",
              "    </tr>\n",
              "    <tr>\n",
              "      <th>2000-01-02</th>\n",
              "      <td>25.0</td>\n",
              "    </tr>\n",
              "    <tr>\n",
              "      <th>2000-01-03</th>\n",
              "      <td>22.0</td>\n",
              "    </tr>\n",
              "  </tbody>\n",
              "</table>\n",
              "</div>"
            ],
            "text/plain": [
              "            O3 AQI\n",
              "date              \n",
              "2000-01-01    12.0\n",
              "2000-01-02    25.0\n",
              "2000-01-03    22.0"
            ]
          },
          "metadata": {
            "tags": []
          },
          "execution_count": 36
        }
      ]
    },
    {
      "cell_type": "code",
      "metadata": {
        "colab": {
          "base_uri": "https://localhost:8080/"
        },
        "id": "d04d4398",
        "outputId": "0852514b-88c3-47e0-82d1-b334ecb52716"
      },
      "source": [
        "ts.shape"
      ],
      "id": "d04d4398",
      "execution_count": 37,
      "outputs": [
        {
          "output_type": "execute_result",
          "data": {
            "text/plain": [
              "(5965, 1)"
            ]
          },
          "metadata": {
            "tags": []
          },
          "execution_count": 37
        }
      ]
    },
    {
      "cell_type": "code",
      "metadata": {
        "colab": {
          "base_uri": "https://localhost:8080/",
          "height": 445
        },
        "id": "23fd6f6b",
        "outputId": "996d5c26-2c8b-4d3f-f970-88064505ed64"
      },
      "source": [
        "ts"
      ],
      "id": "23fd6f6b",
      "execution_count": 38,
      "outputs": [
        {
          "output_type": "execute_result",
          "data": {
            "text/html": [
              "<div>\n",
              "<style scoped>\n",
              "    .dataframe tbody tr th:only-of-type {\n",
              "        vertical-align: middle;\n",
              "    }\n",
              "\n",
              "    .dataframe tbody tr th {\n",
              "        vertical-align: top;\n",
              "    }\n",
              "\n",
              "    .dataframe thead th {\n",
              "        text-align: right;\n",
              "    }\n",
              "</style>\n",
              "<table border=\"1\" class=\"dataframe\">\n",
              "  <thead>\n",
              "    <tr style=\"text-align: right;\">\n",
              "      <th></th>\n",
              "      <th>O3 AQI</th>\n",
              "    </tr>\n",
              "    <tr>\n",
              "      <th>date</th>\n",
              "      <th></th>\n",
              "    </tr>\n",
              "  </thead>\n",
              "  <tbody>\n",
              "    <tr>\n",
              "      <th>2000-01-01</th>\n",
              "      <td>12.0</td>\n",
              "    </tr>\n",
              "    <tr>\n",
              "      <th>2000-01-02</th>\n",
              "      <td>25.0</td>\n",
              "    </tr>\n",
              "    <tr>\n",
              "      <th>2000-01-03</th>\n",
              "      <td>22.0</td>\n",
              "    </tr>\n",
              "    <tr>\n",
              "      <th>2000-01-04</th>\n",
              "      <td>20.0</td>\n",
              "    </tr>\n",
              "    <tr>\n",
              "      <th>2000-01-05</th>\n",
              "      <td>21.0</td>\n",
              "    </tr>\n",
              "    <tr>\n",
              "      <th>...</th>\n",
              "      <td>...</td>\n",
              "    </tr>\n",
              "    <tr>\n",
              "      <th>2016-04-26</th>\n",
              "      <td>51.0</td>\n",
              "    </tr>\n",
              "    <tr>\n",
              "      <th>2016-04-27</th>\n",
              "      <td>29.0</td>\n",
              "    </tr>\n",
              "    <tr>\n",
              "      <th>2016-04-28</th>\n",
              "      <td>27.0</td>\n",
              "    </tr>\n",
              "    <tr>\n",
              "      <th>2016-04-29</th>\n",
              "      <td>23.0</td>\n",
              "    </tr>\n",
              "    <tr>\n",
              "      <th>2016-04-30</th>\n",
              "      <td>29.0</td>\n",
              "    </tr>\n",
              "  </tbody>\n",
              "</table>\n",
              "<p>5965 rows × 1 columns</p>\n",
              "</div>"
            ],
            "text/plain": [
              "            O3 AQI\n",
              "date              \n",
              "2000-01-01    12.0\n",
              "2000-01-02    25.0\n",
              "2000-01-03    22.0\n",
              "2000-01-04    20.0\n",
              "2000-01-05    21.0\n",
              "...            ...\n",
              "2016-04-26    51.0\n",
              "2016-04-27    29.0\n",
              "2016-04-28    27.0\n",
              "2016-04-29    23.0\n",
              "2016-04-30    29.0\n",
              "\n",
              "[5965 rows x 1 columns]"
            ]
          },
          "metadata": {
            "tags": []
          },
          "execution_count": 38
        }
      ]
    },
    {
      "cell_type": "code",
      "metadata": {
        "id": "e5b3b8b9"
      },
      "source": [
        "dataset_train = pd.read_csv('pollution_us_2000_2016.csv')"
      ],
      "id": "e5b3b8b9",
      "execution_count": 39,
      "outputs": []
    },
    {
      "cell_type": "code",
      "metadata": {
        "id": "b543fc7f"
      },
      "source": [
        "training_set = ts.iloc[:, 0:2].values"
      ],
      "id": "b543fc7f",
      "execution_count": 40,
      "outputs": []
    },
    {
      "cell_type": "code",
      "metadata": {
        "id": "c4fdf12b"
      },
      "source": [
        "from sklearn.preprocessing import MinMaxScaler\n",
        "sc = MinMaxScaler(feature_range = (0, 2))\n",
        "training_set_scaled = sc.fit_transform(training_set)"
      ],
      "id": "c4fdf12b",
      "execution_count": 41,
      "outputs": []
    },
    {
      "cell_type": "code",
      "metadata": {
        "colab": {
          "base_uri": "https://localhost:8080/"
        },
        "id": "551a52c5",
        "outputId": "b21b58b3-5c81-4d16-dc29-b6579ca71c6d"
      },
      "source": [
        "training_set_scaled"
      ],
      "id": "551a52c5",
      "execution_count": 42,
      "outputs": [
        {
          "output_type": "execute_result",
          "data": {
            "text/plain": [
              "array([[0.10731707],\n",
              "       [0.23414634],\n",
              "       [0.20487805],\n",
              "       ...,\n",
              "       [0.25365854],\n",
              "       [0.21463415],\n",
              "       [0.27317073]])"
            ]
          },
          "metadata": {
            "tags": []
          },
          "execution_count": 42
        }
      ]
    },
    {
      "cell_type": "code",
      "metadata": {
        "colab": {
          "base_uri": "https://localhost:8080/"
        },
        "id": "d38d0863",
        "outputId": "679ac7f8-2ad3-4ddd-df7c-74d9137745e4"
      },
      "source": [
        "X_train = []\n",
        "y_train = []\n",
        "for i in range(60, 2035):\n",
        "    X_train.append(training_set_scaled[i-60:i, 0])\n",
        "    y_train.append(training_set_scaled[i, 0])\n",
        "X_train, y_train = np.array(X_train), np.array(y_train)\n",
        "\n",
        "X_train = np.reshape(X_train, (X_train.shape[0], X_train.shape[1], 1))\n",
        "X_train"
      ],
      "id": "d38d0863",
      "execution_count": 43,
      "outputs": [
        {
          "output_type": "execute_result",
          "data": {
            "text/plain": [
              "array([[[0.10731707],\n",
              "        [0.23414634],\n",
              "        [0.20487805],\n",
              "        ...,\n",
              "        [0.18536585],\n",
              "        [0.21463415],\n",
              "        [0.17560976]],\n",
              "\n",
              "       [[0.23414634],\n",
              "        [0.20487805],\n",
              "        [0.18536585],\n",
              "        ...,\n",
              "        [0.21463415],\n",
              "        [0.17560976],\n",
              "        [0.17560976]],\n",
              "\n",
              "       [[0.20487805],\n",
              "        [0.18536585],\n",
              "        [0.19512195],\n",
              "        ...,\n",
              "        [0.17560976],\n",
              "        [0.17560976],\n",
              "        [0.17560976]],\n",
              "\n",
              "       ...,\n",
              "\n",
              "       [[0.29268293],\n",
              "        [0.3902439 ],\n",
              "        [0.28292683],\n",
              "        ...,\n",
              "        [0.45853659],\n",
              "        [0.30243902],\n",
              "        [0.51707317]],\n",
              "\n",
              "       [[0.3902439 ],\n",
              "        [0.28292683],\n",
              "        [0.31219512],\n",
              "        ...,\n",
              "        [0.30243902],\n",
              "        [0.51707317],\n",
              "        [0.45853659]],\n",
              "\n",
              "       [[0.28292683],\n",
              "        [0.31219512],\n",
              "        [0.30243902],\n",
              "        ...,\n",
              "        [0.51707317],\n",
              "        [0.45853659],\n",
              "        [0.8097561 ]]])"
            ]
          },
          "metadata": {
            "tags": []
          },
          "execution_count": 43
        }
      ]
    },
    {
      "cell_type": "code",
      "metadata": {
        "id": "f166d852"
      },
      "source": [
        "from keras.models import Sequential\n",
        "from keras.layers import Dense\n",
        "from keras.layers import LSTM\n",
        "from keras.layers import Dropout"
      ],
      "id": "f166d852",
      "execution_count": 44,
      "outputs": []
    },
    {
      "cell_type": "code",
      "metadata": {
        "colab": {
          "base_uri": "https://localhost:8080/"
        },
        "id": "41552578",
        "outputId": "570f8a12-75bd-4129-ea89-9ed1ea8d3752"
      },
      "source": [
        "regressor = Sequential()\n",
        "\n",
        "regressor.add(LSTM(units = 50, return_sequences = True, input_shape = (X_train.shape[1], 1)))\n",
        "regressor.add(Dropout(0.2))\n",
        "\n",
        "regressor.add(LSTM(units = 50, return_sequences = True))\n",
        "regressor.add(Dropout(0.2))\n",
        "\n",
        "regressor.add(LSTM(units = 50, return_sequences = True))\n",
        "regressor.add(Dropout(0.2))\n",
        "\n",
        "regressor.add(LSTM(units = 50))\n",
        "regressor.add(Dropout(0.2))\n",
        "\n",
        "regressor.add(Dense(units = 1))\n",
        "\n",
        "regressor.compile(optimizer = 'adam', loss = 'mean_squared_error')\n",
        "\n",
        "regressor.fit(X_train, y_train, epochs = 100, batch_size = 32)"
      ],
      "id": "41552578",
      "execution_count": 45,
      "outputs": [
        {
          "output_type": "stream",
          "text": [
            "Epoch 1/100\n",
            "62/62 [==============================] - 34s 126ms/step - loss: 0.0567\n",
            "Epoch 2/100\n",
            "62/62 [==============================] - 8s 124ms/step - loss: 0.0361\n",
            "Epoch 3/100\n",
            "62/62 [==============================] - 8s 125ms/step - loss: 0.0377\n",
            "Epoch 4/100\n",
            "62/62 [==============================] - 8s 124ms/step - loss: 0.0332\n",
            "Epoch 5/100\n",
            "62/62 [==============================] - 8s 124ms/step - loss: 0.0369\n",
            "Epoch 6/100\n",
            "62/62 [==============================] - 8s 125ms/step - loss: 0.0380\n",
            "Epoch 7/100\n",
            "62/62 [==============================] - 8s 125ms/step - loss: 0.0331\n",
            "Epoch 8/100\n",
            "62/62 [==============================] - 8s 125ms/step - loss: 0.0389\n",
            "Epoch 9/100\n",
            "62/62 [==============================] - 8s 125ms/step - loss: 0.0301\n",
            "Epoch 10/100\n",
            "62/62 [==============================] - 8s 124ms/step - loss: 0.0355\n",
            "Epoch 11/100\n",
            "62/62 [==============================] - 8s 127ms/step - loss: 0.0339\n",
            "Epoch 12/100\n",
            "62/62 [==============================] - 8s 128ms/step - loss: 0.0295\n",
            "Epoch 13/100\n",
            "62/62 [==============================] - 8s 127ms/step - loss: 0.0331\n",
            "Epoch 14/100\n",
            "62/62 [==============================] - 8s 127ms/step - loss: 0.0321\n",
            "Epoch 15/100\n",
            "62/62 [==============================] - 8s 127ms/step - loss: 0.0358\n",
            "Epoch 16/100\n",
            "62/62 [==============================] - 8s 129ms/step - loss: 0.0325\n",
            "Epoch 17/100\n",
            "62/62 [==============================] - 8s 127ms/step - loss: 0.0338\n",
            "Epoch 18/100\n",
            "62/62 [==============================] - 8s 124ms/step - loss: 0.0324\n",
            "Epoch 19/100\n",
            "62/62 [==============================] - 8s 127ms/step - loss: 0.0286\n",
            "Epoch 20/100\n",
            "62/62 [==============================] - 8s 126ms/step - loss: 0.0271\n",
            "Epoch 21/100\n",
            "62/62 [==============================] - 8s 127ms/step - loss: 0.0283\n",
            "Epoch 22/100\n",
            "62/62 [==============================] - 8s 127ms/step - loss: 0.0243\n",
            "Epoch 23/100\n",
            "62/62 [==============================] - 8s 129ms/step - loss: 0.0242\n",
            "Epoch 24/100\n",
            "62/62 [==============================] - 8s 128ms/step - loss: 0.0264\n",
            "Epoch 25/100\n",
            "62/62 [==============================] - 8s 128ms/step - loss: 0.0271\n",
            "Epoch 26/100\n",
            "62/62 [==============================] - 8s 126ms/step - loss: 0.0272\n",
            "Epoch 27/100\n",
            "62/62 [==============================] - 8s 126ms/step - loss: 0.0219\n",
            "Epoch 28/100\n",
            "62/62 [==============================] - 8s 127ms/step - loss: 0.0226\n",
            "Epoch 29/100\n",
            "62/62 [==============================] - 8s 128ms/step - loss: 0.0223\n",
            "Epoch 30/100\n",
            "62/62 [==============================] - 8s 127ms/step - loss: 0.0264\n",
            "Epoch 31/100\n",
            "62/62 [==============================] - 8s 126ms/step - loss: 0.0235\n",
            "Epoch 32/100\n",
            "62/62 [==============================] - 8s 128ms/step - loss: 0.0271\n",
            "Epoch 33/100\n",
            "62/62 [==============================] - 8s 126ms/step - loss: 0.0273\n",
            "Epoch 34/100\n",
            "62/62 [==============================] - 8s 126ms/step - loss: 0.0226\n",
            "Epoch 35/100\n",
            "62/62 [==============================] - 8s 127ms/step - loss: 0.0222\n",
            "Epoch 36/100\n",
            "62/62 [==============================] - 8s 127ms/step - loss: 0.0244\n",
            "Epoch 37/100\n",
            "62/62 [==============================] - 8s 127ms/step - loss: 0.0241\n",
            "Epoch 38/100\n",
            "62/62 [==============================] - 8s 128ms/step - loss: 0.0215\n",
            "Epoch 39/100\n",
            "62/62 [==============================] - 8s 126ms/step - loss: 0.0267\n",
            "Epoch 40/100\n",
            "62/62 [==============================] - 8s 127ms/step - loss: 0.0230\n",
            "Epoch 41/100\n",
            "62/62 [==============================] - 8s 126ms/step - loss: 0.0266\n",
            "Epoch 42/100\n",
            "62/62 [==============================] - 8s 126ms/step - loss: 0.0255\n",
            "Epoch 43/100\n",
            "62/62 [==============================] - 8s 127ms/step - loss: 0.0227\n",
            "Epoch 44/100\n",
            "62/62 [==============================] - 8s 126ms/step - loss: 0.0227\n",
            "Epoch 45/100\n",
            "62/62 [==============================] - 8s 126ms/step - loss: 0.0253\n",
            "Epoch 46/100\n",
            "62/62 [==============================] - 8s 126ms/step - loss: 0.0248\n",
            "Epoch 47/100\n",
            "62/62 [==============================] - 8s 125ms/step - loss: 0.0236\n",
            "Epoch 48/100\n",
            "62/62 [==============================] - 8s 126ms/step - loss: 0.0222\n",
            "Epoch 49/100\n",
            "62/62 [==============================] - 8s 126ms/step - loss: 0.0254\n",
            "Epoch 50/100\n",
            "62/62 [==============================] - 8s 128ms/step - loss: 0.0204\n",
            "Epoch 51/100\n",
            "62/62 [==============================] - 8s 129ms/step - loss: 0.0219\n",
            "Epoch 52/100\n",
            "62/62 [==============================] - 8s 127ms/step - loss: 0.0236\n",
            "Epoch 53/100\n",
            "62/62 [==============================] - 8s 127ms/step - loss: 0.0237\n",
            "Epoch 54/100\n",
            "62/62 [==============================] - 8s 129ms/step - loss: 0.0237\n",
            "Epoch 55/100\n",
            "62/62 [==============================] - 8s 131ms/step - loss: 0.0239\n",
            "Epoch 56/100\n",
            "62/62 [==============================] - 8s 131ms/step - loss: 0.0232\n",
            "Epoch 57/100\n",
            "62/62 [==============================] - 8s 131ms/step - loss: 0.0283\n",
            "Epoch 58/100\n",
            "62/62 [==============================] - 8s 127ms/step - loss: 0.0185\n",
            "Epoch 59/100\n",
            "62/62 [==============================] - 8s 129ms/step - loss: 0.0215\n",
            "Epoch 60/100\n",
            "62/62 [==============================] - 8s 128ms/step - loss: 0.0198\n",
            "Epoch 61/100\n",
            "62/62 [==============================] - 8s 126ms/step - loss: 0.0225\n",
            "Epoch 62/100\n",
            "62/62 [==============================] - 8s 126ms/step - loss: 0.0217\n",
            "Epoch 63/100\n",
            "62/62 [==============================] - 8s 126ms/step - loss: 0.0215\n",
            "Epoch 64/100\n",
            "62/62 [==============================] - 8s 126ms/step - loss: 0.0209\n",
            "Epoch 65/100\n",
            "62/62 [==============================] - 8s 126ms/step - loss: 0.0224\n",
            "Epoch 66/100\n",
            "62/62 [==============================] - 8s 127ms/step - loss: 0.0260\n",
            "Epoch 67/100\n",
            "62/62 [==============================] - 8s 126ms/step - loss: 0.0224\n",
            "Epoch 68/100\n",
            "62/62 [==============================] - 8s 127ms/step - loss: 0.0222\n",
            "Epoch 69/100\n",
            "62/62 [==============================] - 8s 127ms/step - loss: 0.0247\n",
            "Epoch 70/100\n",
            "62/62 [==============================] - 8s 128ms/step - loss: 0.0184\n",
            "Epoch 71/100\n",
            "62/62 [==============================] - 8s 127ms/step - loss: 0.0190\n",
            "Epoch 72/100\n",
            "62/62 [==============================] - 8s 128ms/step - loss: 0.0221\n",
            "Epoch 73/100\n",
            "62/62 [==============================] - 8s 129ms/step - loss: 0.0223\n",
            "Epoch 74/100\n",
            "62/62 [==============================] - 10s 166ms/step - loss: 0.0205\n",
            "Epoch 75/100\n",
            "62/62 [==============================] - 8s 128ms/step - loss: 0.0209\n",
            "Epoch 76/100\n",
            "62/62 [==============================] - 8s 128ms/step - loss: 0.0236\n",
            "Epoch 77/100\n",
            "62/62 [==============================] - 8s 127ms/step - loss: 0.0206\n",
            "Epoch 78/100\n",
            "62/62 [==============================] - 8s 127ms/step - loss: 0.0224\n",
            "Epoch 79/100\n",
            "62/62 [==============================] - 8s 128ms/step - loss: 0.0223\n",
            "Epoch 80/100\n",
            "62/62 [==============================] - 8s 127ms/step - loss: 0.0211\n",
            "Epoch 81/100\n",
            "62/62 [==============================] - 8s 127ms/step - loss: 0.0214\n",
            "Epoch 82/100\n",
            "62/62 [==============================] - 8s 128ms/step - loss: 0.0206\n",
            "Epoch 83/100\n",
            "62/62 [==============================] - 8s 127ms/step - loss: 0.0204\n",
            "Epoch 84/100\n",
            "62/62 [==============================] - 8s 126ms/step - loss: 0.0216\n",
            "Epoch 85/100\n",
            "62/62 [==============================] - 8s 126ms/step - loss: 0.0225\n",
            "Epoch 86/100\n",
            "62/62 [==============================] - 8s 126ms/step - loss: 0.0231\n",
            "Epoch 87/100\n",
            "62/62 [==============================] - 8s 127ms/step - loss: 0.0214\n",
            "Epoch 88/100\n",
            "62/62 [==============================] - 8s 127ms/step - loss: 0.0218\n",
            "Epoch 89/100\n",
            "62/62 [==============================] - 8s 126ms/step - loss: 0.0208\n",
            "Epoch 90/100\n",
            "62/62 [==============================] - 8s 128ms/step - loss: 0.0217\n",
            "Epoch 91/100\n",
            "62/62 [==============================] - 8s 126ms/step - loss: 0.0207\n",
            "Epoch 92/100\n",
            "62/62 [==============================] - 8s 126ms/step - loss: 0.0218\n",
            "Epoch 93/100\n",
            "62/62 [==============================] - 8s 127ms/step - loss: 0.0215\n",
            "Epoch 94/100\n",
            "62/62 [==============================] - 8s 126ms/step - loss: 0.0191\n",
            "Epoch 95/100\n",
            "62/62 [==============================] - 8s 129ms/step - loss: 0.0202\n",
            "Epoch 96/100\n",
            "62/62 [==============================] - 8s 130ms/step - loss: 0.0200\n",
            "Epoch 97/100\n",
            "62/62 [==============================] - 8s 131ms/step - loss: 0.0186\n",
            "Epoch 98/100\n",
            "62/62 [==============================] - 8s 129ms/step - loss: 0.0222\n",
            "Epoch 99/100\n",
            "62/62 [==============================] - 8s 128ms/step - loss: 0.0207\n",
            "Epoch 100/100\n",
            "62/62 [==============================] - 8s 126ms/step - loss: 0.0170\n"
          ],
          "name": "stdout"
        },
        {
          "output_type": "execute_result",
          "data": {
            "text/plain": [
              "<keras.callbacks.History at 0x7f1b0787fcd0>"
            ]
          },
          "metadata": {
            "tags": []
          },
          "execution_count": 45
        }
      ]
    },
    {
      "cell_type": "code",
      "metadata": {
        "colab": {
          "base_uri": "https://localhost:8080/"
        },
        "id": "ffa7a804",
        "outputId": "3bef0afb-31ba-44c9-c151-ea35ea38986c"
      },
      "source": [
        "dataset_test = pd.read_csv('pollution_us_2000_2016.csv')\n",
        "real_stock_price = dataset_test.iloc[:, 17:18].values\n",
        "dataset_test = dataset_test['O3 AQI']\n",
        "dataset_test"
      ],
      "id": "ffa7a804",
      "execution_count": 46,
      "outputs": [
        {
          "output_type": "execute_result",
          "data": {
            "text/plain": [
              "0          34\n",
              "1          34\n",
              "2          34\n",
              "3          34\n",
              "4          27\n",
              "           ..\n",
              "1746656    44\n",
              "1746657    44\n",
              "1746658    44\n",
              "1746659    44\n",
              "1746660    44\n",
              "Name: O3 AQI, Length: 1746661, dtype: int64"
            ]
          },
          "metadata": {
            "tags": []
          },
          "execution_count": 46
        }
      ]
    },
    {
      "cell_type": "code",
      "metadata": {
        "id": "9415b44b"
      },
      "source": [
        "\n",
        "dataset_total = pd.concat((dataset_train['O3 AQI'], dataset_test), axis = 0)\n",
        "inputs = dataset_total[len(dataset_total) - len(dataset_test) - 60:].values\n",
        "inputs = inputs.reshape(-1,1)\n",
        "inputs = sc.transform(inputs)\n",
        "X_test = []\n",
        "for i in range(60, 76):\n",
        "    X_test.append(inputs[i-60:i, 0])\n",
        "X_test = np.array(X_test)\n",
        "X_test = np.reshape(X_test, (X_test.shape[0], X_test.shape[1], 1))\n",
        "predicted_AQI = regressor.predict(X_test)\n",
        "predicted_AQI = sc.inverse_transform(predicted_AQI)"
      ],
      "id": "9415b44b",
      "execution_count": 47,
      "outputs": []
    },
    {
      "cell_type": "code",
      "metadata": {
        "colab": {
          "base_uri": "https://localhost:8080/",
          "height": 301
        },
        "id": "9dbdc524",
        "outputId": "2df6b6c8-0bc3-41e2-f91d-244a087d2809"
      },
      "source": [
        "\n",
        "# plt.plot(real_stock_price, color = 'black', label = 'Air Quality Index')\n",
        "plt.plot(predicted_AQI, color = 'green', label = 'Predicted Air Quality Index')\n",
        "plt.title('Prediction')\n",
        "plt.xlabel('Time')\n",
        "plt.ylabel('Air Quality Index')\n",
        "plt.legend()\n",
        "plt.show()"
      ],
      "id": "9dbdc524",
      "execution_count": 48,
      "outputs": [
        {
          "output_type": "display_data",
          "data": {
            "image/png": "[encoded data removed]",
            "text/plain": [
              "<Figure size 432x288 with 1 Axes>"
            ]
          },
          "metadata": {
            "tags": []
          }
        }
      ]
    }
  ]
}
